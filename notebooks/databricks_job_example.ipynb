{
 "cells": [
  {
   "cell_type": "markdown",
   "metadata": {},
   "source": [
    "# Databricks Job Example"
   ]
  },
  {
   "cell_type": "markdown",
   "metadata": {},
   "source": [
    "Shows a Databricks Job for model training and scoring."
   ]
  },
  {
   "cell_type": "code",
   "metadata": {},
   "source": [
    "# Databricks notebook source\n",
    "dbutils.widgets.text('input_path', '/dbfs/data/processed/features.csv')\n",
    "dbutils.widgets.text('output_path', '/dbfs/models/evaluation/dbr_predictions.csv')\n",
    "\n",
    "import pandas as pd\n",
    "import joblib\n",
    "df = pd.read_csv(dbutils.widgets.get('input_path'))\n",
    "model = joblib.load('/dbfs/models/trained/model.joblib')\n",
    "X = df.drop(['failure_within_1yr', 'structure_id'], axis=1)\n",
    "df['failure_probability'] = model.predict_proba(X)[:, 1]\n",
    "df[['structure_id', 'failure_probability']].to_csv(dbutils.widgets.get('output_path'), index=False)\n",
    "print('Databricks job complete.')"
   ],
   "execution_count": 1,
   "outputs": []
  }
 ],
 "metadata": {
  "kernelspec": {
   "display_name": "Python 3"
  },
  "language_info": {
   "name": "python",
   "version": "3.8"
  }
 },
 "nbformat": 4,
 "nbformat_minor": 4
}