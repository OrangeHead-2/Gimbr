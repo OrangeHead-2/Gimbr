{
 "cells": [
  {
   "cell_type": "markdown",
   "metadata": {},
   "source": [
    "# Ensemble Modeling - Bridge Failure Prediction"
   ]
  },
  {
   "cell_type": "code",
   "metadata": {},
   "source": [
    "import pandas as pd\n",
    "import joblib\n",
    "from src.models.ensemble import ModelEnsemble\n",
    "from sklearn.metrics import roc_auc_score, classification_report"
   ],
   "execution_count": 1,
   "outputs": []
  },
  {
   "cell_type": "markdown",
   "metadata": {},
   "source": [
    "## Load Data and Models"
   ]
  },
  {
   "cell_type": "code",
   "metadata": {},
   "source": [
    "df = pd.read_csv('../data/processed/features.csv')\n",
    "X = df.drop(['failure_within_1yr', 'structure_id'], axis=1)\n",
    "y = df['failure_within_1yr']"
   ],
   "execution_count": 2,
   "outputs": []
  },
  {
   "cell_type": "code",
   "metadata": {},
   "source": [
    "model_paths = [\n",
    "    '../models/trained/model.joblib',\n",
    "    '../models/trained/model_tuned.joblib',\n",
    "    '../models/trained/model_retrained.joblib'\n",
    "]\n",
    "ensemble = ModelEnsemble(model_paths)\n",
    "y_proba_ens = ensemble.predict_proba(X)[:,1]\n",
    "y_pred_ens = (y_proba_ens > 0.5).astype(int)"
   ],
   "execution_count": 3,
   "outputs": []
  },
  {
   "cell_type": "markdown",
   "metadata": {},
   "source": [
    "## Evaluate Ensemble"
   ]
  },
  {
   "cell_type": "code",
   "metadata": {},
   "source": [
    "print(classification_report(y, y_pred_ens))\n",
    "print('ROC AUC:', roc_auc_score(y, y_proba_ens))"
   ],
   "execution_count": 4,
   "outputs": []
  }
 ],
 "metadata": {
  "kernelspec": {
   "display_name": "Python 3",
   "language": "python3"
  },
  "language_info": {
   "name": "python",
   "version": "3.8"
  }
 },
 "nbformat": 4,
 "nbformat_minor": 4
}