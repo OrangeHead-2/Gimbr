{
 "cells": [
  {
   "cell_type": "markdown",
   "metadata": {},
   "source": [
    "# API Security and Audit Demo"
   ]
  },
  {
   "cell_type": "code",
   "metadata": {},
   "source": [
    "from src.security.auth import encode_jwt, decode_jwt\n",
    "from src.security.api_key import verify_api_key\n",
    "from src.audit.audit_log import AuditLogger\n",
    "import os"
   ],
   "execution_count": 1,
   "outputs": []
  },
  {
   "cell_type": "markdown",
   "metadata": {},
   "source": [
    "## Encode and Decode JWT"
   ]
  },
  {
   "cell_type": "code",
   "metadata": {},
   "source": [
    "payload = {\"user\": \"test_user\", \"role\": \"admin\"}\n",
    "token = encode_jwt(payload)\n",
    "print('JWT:', token)\n",
    "decoded = decode_jwt(token)\n",
    "print('Decoded:', decoded)"
   ],
   "execution_count": 2,
   "outputs": []
  },
  {
   "cell_type": "markdown",
   "metadata": {},
   "source": [
    "## Simulate API Key Check"
   ]
  },
  {
   "cell_type": "code",
   "metadata": {},
   "source": [
    "os.environ['GIMBR_API_KEY'] = 'demo-key'\n",
    "try:\n",
    "    verify_api_key('demo-key')\n",
    "    print('API Key valid')\n",
    "except Exception as e:\n",
    "    print('API Key check failed:', e)"
   ],
   "execution_count": 3,
   "outputs": []
  },
  {
   "cell_type": "markdown",
   "metadata": {},
   "source": [
    "## Audit Logging"
   ]
  },
  {
   "cell_type": "code",
   "metadata": {},
   "source": [
    "audit_logger = AuditLogger('tmp_audit.log')\n",
    "audit_logger.log_action('test_user', 'predict', status='success', meta={\"endpoint\": \"/predict\"})\n",
    "audit_logger.log_failure('test_user', 'predict', 'Example error')\n",
    "with open('tmp_audit.log') as f:\n",
    "    for line in f:\n",
    "        print(line.strip())"
   ],
   "execution_count": 4,
   "outputs": []
  }
 ],
 "metadata": {
  "kernelspec": {
   "display_name": "Python 3",
   "language": "python3"
  },
  "language_info": {
   "name": "python",
   "version": "3.8"
  }
 },
 "nbformat": 4,
 "nbformat_minor": 4
}