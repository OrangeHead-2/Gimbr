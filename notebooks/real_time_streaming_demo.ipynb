{
 "cells": [
  {
   "cell_type": "markdown",
   "metadata": {},
   "source": [
    "# Real-Time Streaming Inference Demo"
   ]
  },
  {
   "cell_type": "code",
   "metadata": {},
   "source": [
    "import pandas as pd\n",
    "import json\n",
    "import requests\n",
    "import time"
   ],
   "execution_count": 1,
   "outputs": []
  },
  {
   "cell_type": "markdown",
   "metadata": {},
   "source": [
    "## Simulate Streaming Data"
   ]
  },
  {
   "cell_type": "code",
   "metadata": {},
   "source": [
    "df = pd.read_csv('../data/processed/features.csv')\n",
    "url = 'http://localhost:8080/predict'\n",
    "headers = {'Authorization': 'Bearer DEMO_TOKEN'}\n",
    "for i, row in df.iterrows():\n",
    "    payload = [row.drop('failure_within_1yr').to_dict()]\n",
    "    resp = requests.post(url, json=payload, headers=headers)\n",
    "    print(f'Row {i} status: {resp.status_code}, result: {resp.json()}')\n",
    "    time.sleep(0.1)\n",
    "    if i >= 9:\n",
    "        break"
   ],
   "execution_count": 2,
   "outputs": []
  }
 ],
 "metadata": {
  "kernelspec": {
   "display_name": "Python 3",
   "language": "python3"
  },
  "language_info": {
   "name": "python",
   "version": "3.8"
  }
 },
 "nbformat": 4,
 "nbformat_minor": 4
}