{
 "cells": [
  {
   "cell_type": "markdown",
   "metadata": {},
   "source": [
    "# Advanced Model Interpretability - SHAP Analysis"
   ]
  },
  {
   "cell_type": "code",
   "metadata": {},
   "source": [
    "import shap\n",
    "import pandas as pd\n",
    "import joblib\n",
    "import matplotlib.pyplot as plt"
   ],
   "execution_count": 1,
   "outputs": []
  },
  {
   "cell_type": "markdown",
   "metadata": {},
   "source": [
    "## Load Model and Data"
   ]
  },
  {
   "cell_type": "code",
   "metadata": {},
   "source": [
    "model = joblib.load('../models/trained/model.joblib')\n",
    "df = pd.read_csv('../data/processed/features.csv')\n",
    "X = df.drop(['failure_within_1yr', 'structure_id'], axis=1)"
   ],
   "execution_count": 2,
   "outputs": []
  },
  {
   "cell_type": "markdown",
   "metadata": {},
   "source": [
    "## Calculate SHAP Values"
   ]
  },
  {
   "cell_type": "code",
   "metadata": {},
   "source": [
    "explainer = shap.TreeExplainer(model)\n",
    "shap_values = explainer.shap_values(X)"
   ],
   "execution_count": 3,
   "outputs": []
  },
  {
   "cell_type": "markdown",
   "metadata": {},
   "source": [
    "## SHAP Summary Plot"
   ]
  },
  {
   "cell_type": "code",
   "metadata": {},
   "source": [
    "shap.summary_plot(shap_values[1], X, plot_type='bar', show=False)\n",
    "plt.title('SHAP Feature Importance (Bar)')\n",
    "plt.show()\n",
    "shap.summary_plot(shap_values[1], X, show=False)\n",
    "plt.title('SHAP Feature Importance (Detailed)')\n",
    "plt.show()"
   ],
   "execution_count": 4,
   "outputs": []
  }
 ],
 "metadata": {
  "kernelspec": {
   "display_name": "Python 3",
   "language": "python3"
  },
  "language_info": {
   "name": "python",
   "version": "3.8"
  }
 },
 "nbformat": 4,
 "nbformat_minor": 4
}