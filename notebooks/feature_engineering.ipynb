{
 "cells": [
  {
   "cell_type": "markdown",
   "metadata": {},
   "source": [
    "# Feature Engineering - Bridge Failure Prediction"
   ]
  },
  {
   "cell_type": "code",
   "metadata": {},
   "source": [
    "import pandas as pd\n",
    "from src.features.engineering import feature_pipeline\n",
    "from src.features.interactions import add_feature_interactions\n",
    "from src.features.pca import add_pca_features\n",
    "from src.features.time import add_time_features\n",
    "from src.features.geospatial import add_nearest_city_distance\n",
    "\n",
    "# Example cities (lat, lon) for demonstration\n",
    "major_cities = [(40.7128, -74.0060), (34.0522, -118.2437), (41.8781, -87.6298)]  # NYC, LA, Chicago"
   ],
   "execution_count": 1,
   "outputs": []
  },
  {
   "cell_type": "markdown",
   "metadata": {},
   "source": [
    "## Load Data"
   ]
  },
  {
   "cell_type": "code",
   "metadata": {},
   "source": [
    "df = pd.read_csv('../data/raw/bridges.csv')\n",
    "df.head()"
   ],
   "execution_count": 2,
   "outputs": []
  },
  {
   "cell_type": "markdown",
   "metadata": {},
   "source": [
    "## Basic Feature Pipeline"
   ]
  },
  {
   "cell_type": "code",
   "metadata": {},
   "source": [
    "df = feature_pipeline(df)\n",
    "df = add_feature_interactions(df)\n",
    "df = add_time_features(df, 'inspection_date')\n",
    "df = add_nearest_city_distance(df, major_cities)\n",
    "df.head()"
   ],
   "execution_count": 3,
   "outputs": []
  },
  {
   "cell_type": "markdown",
   "metadata": {},
   "source": [
    "## Add PCA Features (on selected columns)"
   ]
  },
  {
   "cell_type": "code",
   "metadata": {},
   "source": [
    "numeric_cols = ['avg_daily_traffic', 'corrosion_level', 'precipitation', 'avg_temp']\n",
    "df = add_pca_features(df, numeric_cols, n_components=2)\n",
    "df.head()"
   ],
   "execution_count": 4,
   "outputs": []
  },
  {
   "cell_type": "markdown",
   "metadata": {},
   "source": [
    "## Save Engineered Features"
   ]
  },
  {
   "cell_type": "code",
   "metadata": {},
   "source": [
    "df.to_csv('../data/processed/features.csv', index=False)\n",
    "print('Feature engineering complete. Saved to ../data/processed/features.csv')"
   ],
   "execution_count": 5,
   "outputs": []
  }
 ],
 "metadata": {
  "kernelspec": {
   "display_name": "Python 3",
   "language": "python",
   "name": "python3"
  },
  "language_info": {
   "name": "python",
   "version": "3.8"
  }
 },
 "nbformat": 4,
 "nbformat_minor": 4
}