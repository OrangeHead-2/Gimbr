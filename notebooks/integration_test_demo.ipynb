{
 "cells": [
  {
   "cell_type": "markdown",
   "metadata": {},
   "source": [
    "# Integration Test Demo - End-to-End Pipeline"
   ]
  },
  {
   "cell_type": "code",
   "metadata": {},
   "source": [
    "import subprocess\n",
    "import os\n",
    "import pandas as pd"
   ],
   "execution_count": 1,
   "outputs": []
  },
  {
   "cell_type": "markdown",
   "metadata": {},
   "source": [
    "## Run Feature Engineering"
   ]
  },
  {
   "cell_type": "code",
   "metadata": {},
   "source": [
    "subprocess.run(['python', '../src/features/engineering.py'])\n",
    "assert os.path.exists('../data/processed/features.csv'), 'Feature engineering failed!'"
   ],
   "execution_count": 2,
   "outputs": []
  },
  {
   "cell_type": "markdown",
   "metadata": {},
   "source": [
    "## Run Model Training"
   ]
  },
  {
   "cell_type": "code",
   "metadata": {},
   "source": [
    "subprocess.run(['python', '../src/models/train.py'])\n",
    "assert os.path.exists('../models/trained/model.joblib'), 'Model training failed!'"
   ],
   "execution_count": 3,
   "outputs": []
  },
  {
   "cell_type": "markdown",
   "metadata": {},
   "source": [
    "## Predict/Evaluate"
   ]
  },
  {
   "cell_type": "code",
   "metadata": {},
   "source": [
    "subprocess.run(['python', '../src/models/evaluate.py'])\n",
    "assert os.path.exists('../models/evaluation/predictions.csv'), 'Evaluation failed!'\n",
    "print('Pipeline integration test complete.')"
   ],
   "execution_count": 4,
   "outputs": []
  }
 ],
 "metadata": {
  "kernelspec": {
   "display_name": "Python 3",
   "language": "python3"
  },
  "language_info": {
   "name": "python",
   "version": "3.8"
  }
 },
 "nbformat": 4,
 "nbformat_minor": 4
}