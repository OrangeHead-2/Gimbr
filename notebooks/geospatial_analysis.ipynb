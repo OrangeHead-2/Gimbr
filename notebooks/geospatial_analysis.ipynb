{
 "cells": [
  {
   "cell_type": "markdown",
   "metadata": {},
   "source": [
    "# Geospatial Analysis - Bridge Failure Prediction"
   ]
  },
  {
   "cell_type": "code",
   "metadata": {},
   "source": [
    "import pandas as pd\n",
    "import matplotlib.pyplot as plt\n",
    "from src.features.geospatial import add_nearest_city_distance"
   ],
   "execution_count": 1,
   "outputs": []
  },
  {
   "cell_type": "markdown",
   "metadata": {},
   "source": [
    "## Load Data"
   ]
  },
  {
   "cell_type": "code",
   "metadata": {},
   "source": [
    "df = pd.read_csv('../data/processed/features.csv')"
   ],
   "execution_count": 2,
   "outputs": []
  },
  {
   "cell_type": "markdown",
   "metadata": {},
   "source": [
    "## Add Nearest City Distance"
   ]
  },
  {
   "cell_type": "code",
   "metadata": {},
   "source": [
    "major_cities = [(40.7128, -74.0060), (34.0522, -118.2437), (41.8781, -87.6298)]\n",
    "df = add_nearest_city_distance(df, major_cities)\n",
    "df[['structure_id', 'dist_to_city_km']].head()"
   ],
   "execution_count": 3,
   "outputs": []
  },
  {
   "cell_type": "markdown",
   "metadata": {},
   "source": [
    "## Plot Distance to Major City vs Failure Probability"
   ]
  },
  {
   "cell_type": "code",
   "metadata": {},
   "source": [
    "plt.scatter(df['dist_to_city_km'], df['failure_probability'], alpha=0.3)\n",
    "plt.xlabel('Distance to Major City (km)')\n",
    "plt.ylabel('Failure Probability')\n",
    "plt.title('Failure Probability vs. Distance to Major City')\n",
    "plt.show()"
   ],
   "execution_count": 4,
   "outputs": []
  }
 ],
 "metadata": {
  "kernelspec": {
   "display_name": "Python 3",
   "language": "python3"
  },
  "language_info": {
   "name": "python",
   "version": "3.8"
  }
 },
 "nbformat": 4,
 "nbformat_minor": 4
}