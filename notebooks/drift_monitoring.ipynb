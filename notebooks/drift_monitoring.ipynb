{
 "cells": [
  {
   "cell_type": "markdown",
   "metadata": {},
   "source": [
    "# Data Drift Monitoring - Bridge Failure Prediction"
   ]
  },
  {
   "cell_type": "code",
   "metadata": {},
   "source": [
    "import pandas as pd\n",
    "from src.models.train import drift_detection"
   ],
   "execution_count": 1,
   "outputs": []
  },
  {
   "cell_type": "markdown",
   "metadata": {},
   "source": [
    "## Load Reference and New Data"
   ]
  },
  {
   "cell_type": "code",
   "metadata": {},
   "source": [
    "ref_df = pd.read_csv('../data/processed/infra_training.csv')\n",
    "new_df = pd.read_csv('../data/processed/features.csv')"
   ],
   "execution_count": 2,
   "outputs": []
  },
  {
   "cell_type": "markdown",
   "metadata": {},
   "source": [
    "## Run Drift Detection"
   ]
  },
  {
   "cell_type": "code",
   "metadata": {},
   "source": [
    "features = [c for c in ref_df.columns if c not in ['structure_id', 'failure_within_1yr']]\n",
    "drift = drift_detection(new_df, ref_df, features)\n",
    "import pandas as pd\n",
    "drift_df = pd.DataFrame.from_dict(drift, orient='index')\n",
    "drift_df.head()"
   ],
   "execution_count": 3,
   "outputs": []
  },
  {
   "cell_type": "markdown",
   "metadata": {},
   "source": [
    "## Features with Significant Drift (p-value < 0.05)"
   ]
  },
  {
   "cell_type": "code",
   "metadata": {},
   "source": [
    "sig_features = drift_df[drift_df['p_value'] < 0.05]\n",
    "sig_features"
   ],
   "execution_count": 4,
   "outputs": []
  },
  {
   "cell_type": "markdown",
   "metadata": {},
   "source": [
    "## Plot Drift Statistics"
   ]
  },
  {
   "cell_type": "code",
   "metadata": {},
   "source": [
    "import matplotlib.pyplot as plt\n",
    "drift_df['ks_stat'].plot(kind='bar', figsize=(12,4))\n",
    "plt.title('KS Statistic by Feature (Drift)')\n",
    "plt.ylabel('KS Statistic')\n",
    "plt.tight_layout()\n",
    "plt.show()"
   ],
   "execution_count": 5,
   "outputs": []
  }
 ],
 "metadata": {
  "kernelspec": {
   "display_name": "Python 3",
   "language": "python",
   "name": "python3"
  },
  "language_info": {
   "name": "python",
   "version": "3.8"
  }
 },
 "nbformat": 4,
 "nbformat_minor": 4
}