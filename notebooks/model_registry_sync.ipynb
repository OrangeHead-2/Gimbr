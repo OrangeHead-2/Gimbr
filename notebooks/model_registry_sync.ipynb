{
 "cells": [
  {
   "cell_type": "markdown",
   "metadata": {},
   "source": [
    "# Model Registry Sync Example"
   ]
  },
  {
   "cell_type": "code",
   "metadata": {},
   "source": [
    "from src.registry.model_registry import ModelRegistry\n",
    "import joblib\n",
    "import os"
   ],
   "execution_count": 1,
   "outputs": []
  },
  {
   "cell_type": "markdown",
   "metadata": {},
   "source": [
    "## Register New Model Version"
   ]
  },
  {
   "cell_type": "code",
   "metadata": {},
   "source": [
    "model_path = '../models/trained/model.joblib'\n",
    "registry = ModelRegistry(os.environ.get('MODEL_REGISTRY_URL'))\n",
    "model_meta = {\n",
    "    'name': 'bridge_failure_rf',\n",
    "    'version': '1.2.0',\n",
    "    'description': 'Retrained with 2025 data',\n",
    "    'path': model_path\n",
    "}\n",
    "registry.register_model(model_meta)\n",
    "print('Model registered in registry.')"
   ],
   "execution_count": 2,
   "outputs": []
  },
  {
   "cell_type": "markdown",
   "metadata": {},
   "source": [
    "## List All Registered Models"
   ]
  },
  {
   "cell_type": "code",
   "metadata": {},
   "source": [
    "models = registry.list_models()\n",
    "for m in models:\n",
    "    print(m)"
   ],
   "execution_count": 3,
   "outputs": []
  }
 ],
 "metadata": {
  "kernelspec": {
   "display_name": "Python 3",
   "language": "python3"
  },
  "language_info": {
   "name": "python",
   "version": "3.8"
  }
 },
 "nbformat": 4,
 "nbformat_minor": 4
}