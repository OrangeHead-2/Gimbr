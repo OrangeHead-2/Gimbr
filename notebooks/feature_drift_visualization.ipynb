{
 "cells": [
  {
   "cell_type": "markdown",
   "metadata": {},
   "source": [
    "# Feature Drift Visualization - Bridge Failure Prediction"
   ]
  },
  {
   "cell_type": "code",
   "metadata": {},
   "source": [
    "import pandas as pd\n",
    "import matplotlib.pyplot as plt\n",
    "from src.models.train import drift_detection"
   ],
   "execution_count": 1,
   "outputs": []
  },
  {
   "cell_type": "markdown",
   "metadata": {},
   "source": [
    "## Load Reference and New Data"
   ]
  },
  {
   "cell_type": "code",
   "metadata": {},
   "source": [
    "ref_df = pd.read_csv('../data/processed/infra_training.csv')\n",
    "new_df = pd.read_csv('../data/processed/features.csv')"
   ],
   "execution_count": 2,
   "outputs": []
  },
  {
   "cell_type": "markdown",
   "metadata": {},
   "source": [
    "## Run Drift Detection"
   ]
  },
  {
   "cell_type": "code",
   "metadata": {},
   "source": [
    "features = [c for c in ref_df.columns if c not in ['structure_id', 'failure_within_1yr']]\n",
    "drift = drift_detection(new_df, ref_df, features)\n",
    "import pandas as pd\n",
    "drift_df = pd.DataFrame.from_dict(drift, orient='index')\n",
    "drift_df = drift_df.sort_values('p_value')"
   ],
   "execution_count": 3,
   "outputs": []
  },
  {
   "cell_type": "markdown",
   "metadata": {},
   "source": [
    "## Visualize Distributions of Most Drifted Features"
   ]
  },
  {
   "cell_type": "code",
   "metadata": {},
   "source": [
    "top_drifted = drift_df.head(3).index.tolist()\n",
    "for feat in top_drifted:\n",
    "    plt.figure(figsize=(8,4))\n",
    "    plt.hist(ref_df[feat], bins=30, alpha=0.5, label='Reference', density=True)\n",
    "    plt.hist(new_df[feat], bins=30, alpha=0.5, label='New', density=True)\n",
    "    plt.title(f'Distribution Drift: {feat} (KS={drift_df.loc[feat, \"ks_stat\"]:.2f})')\n",
    "    plt.legend()\n",
    "    plt.show()"
   ],
   "execution_count": 4,
   "outputs": []
  }
 ],
 "metadata": {
  "kernelspec": {
   "display_name": "Python 3",
   "language": "python3"
  },
  "language_info": {
   "name": "python",
   "version": "3.8"
  }
 },
 "nbformat": 4,
 "nbformat_minor": 4
}