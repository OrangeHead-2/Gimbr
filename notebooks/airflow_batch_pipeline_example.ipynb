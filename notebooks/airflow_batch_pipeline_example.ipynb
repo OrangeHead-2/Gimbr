{
 "cells": [
  {
   "cell_type": "markdown",
   "metadata": {},
   "source": [
    "# Airflow Batch Pipeline Example"
   ]
  },
  {
   "cell_type": "markdown",
   "metadata": {},
   "source": [
    "Demonstrates a simple Airflow DAG for feature engineering, training, and batch scoring."
   ]
  },
  {
   "cell_type": "code",
   "metadata": {},
   "source": [
    "from airflow import DAG\n",
    "from airflow.operators.bash import BashOperator\n",
    "from airflow.utils.dates import days_ago\n",
    "from datetime import timedelta\n",
    "\n",
    "default_args = {\n",
    "    'owner': 'airflow',\n",
    "    'depends_on_past': False,\n",
    "    'retries': 1,\n",
    "    'retry_delay': timedelta(minutes=5),\n",
    "}\n",
    "\n",
    "with DAG(\n",
    "    'bridge_failure_batch_pipeline',\n",
    "    default_args=default_args,\n",
    "    schedule_interval='@daily',\n",
    "    start_date=days_ago(1),\n",
    "    catchup=False,\n",
    ") as dag:\n",
    "    feat_engineering = BashOperator(\n",
    "        task_id='feature_engineering',\n",
    "        bash_command='python /opt/project/src/features/engineering.py'\n",
    "    )\n",
    "\n",
    "    train_model = BashOperator(\n",
    "        task_id='model_training',\n",
    "        bash_command='python /opt/project/src/models/train.py'\n",
    "    )\n",
    "\n",
    "    batch_score = BashOperator(\n",
    "        task_id='batch_scoring',\n",
    "        bash_command='python /opt/project/src/models/batch_score.py'\n",
    "    )\n",
    "\n",
    "    feat_engineering >> train_model >> batch_score"
   ],
   "execution_count": 1,
   "outputs": []
  }
 ],
 "metadata": {
  "kernelspec": {
   "display_name": "Python 3"
  },
  "language_info": {
   "name": "python",
   "version": "3.8"
  }
 },
 "nbformat": 4,
 "nbformat_minor": 4
}