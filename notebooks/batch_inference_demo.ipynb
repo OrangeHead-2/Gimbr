{
 "cells": [
  {
   "cell_type": "markdown",
   "metadata": {},
   "source": [
    "# Batch Inference Demo - Bridge Failure Prediction"
   ]
  },
  {
   "cell_type": "code",
   "metadata": {},
   "source": [
    "import pandas as pd\n",
    "import joblib\n",
    "from src.models.serve import ModelServer"
   ],
   "execution_count": 1,
   "outputs": []
  },
  {
   "cell_type": "markdown",
   "metadata": {},
   "source": [
    "## Load Model and New Data"
   ]
  },
  {
   "cell_type": "code",
   "metadata": {},
   "source": [
    "model_server = ModelServer('../models/trained/model.joblib')\n",
    "df = pd.read_csv('../data/processed/new_features.csv')\n",
    "probs = model_server.predict(df)\n",
    "df['failure_probability'] = probs\n",
    "df[['structure_id', 'failure_probability']].head()"
   ],
   "execution_count": 2,
   "outputs": []
  },
  {
   "cell_type": "markdown",
   "metadata": {},
   "source": [
    "## Export Predictions"
   ]
  },
  {
   "cell_type": "code",
   "metadata": {},
   "source": [
    "df[['structure_id', 'failure_probability']].to_csv('../models/evaluation/batch_predictions.csv', index=False)\n",
    "print('Batch predictions exported.')"
   ],
   "execution_count": 3,
   "outputs": []
  }
 ],
 "metadata": {
  "kernelspec": {
   "display_name": "Python 3",
   "language": "python3"
  },
  "language_info": {
   "name": "python",
   "version": "3.8"
  }
 },
 "nbformat": 4,
 "nbformat_minor": 4
}