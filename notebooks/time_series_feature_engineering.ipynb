{
 "cells": [
  {
   "cell_type": "markdown",
   "metadata": {},
   "source": [
    "# Time Series Feature Engineering - Bridge Failure Prediction"
   ]
  },
  {
   "cell_type": "code",
   "metadata": {},
   "source": [
    "import pandas as pd\n",
    "from src.features.time import add_time_features\n",
    "import matplotlib.pyplot as plt"
   ],
   "execution_count": 1,
   "outputs": []
  },
  {
   "cell_type": "markdown",
   "metadata": {},
   "source": [
    "## Load Data with Time Columns"
   ]
  },
  {
   "cell_type": "code",
   "metadata": {},
   "source": [
    "df = pd.read_csv('../data/raw/bridge_inspections_with_time.csv')\n",
    "df = add_time_features(df, 'inspection_date')\n",
    "df.head()"
   ],
   "execution_count": 2,
   "outputs": []
  },
  {
   "cell_type": "markdown",
   "metadata": {},
   "source": [
    "## Rolling Window Features"
   ]
  },
  {
   "cell_type": "code",
   "metadata": {},
   "source": [
    "df = df.sort_values(['structure_id', 'inspection_date'])\n",
    "df['traffic_rolling_3'] = df.groupby('structure_id')['avg_daily_traffic'].rolling(window=3, min_periods=1).mean().reset_index(level=0, drop=True)\n",
    "df['corrosion_rolling_3'] = df.groupby('structure_id')['corrosion_level'].rolling(window=3, min_periods=1).mean().reset_index(level=0, drop=True)\n",
    "df.head()"
   ],
   "execution_count": 3,
   "outputs": []
  },
  {
   "cell_type": "markdown",
   "metadata": {},
   "source": [
    "## Plot Rolling Mean Example"
   ]
  },
  {
   "cell_type": "code",
   "metadata": {},
   "source": [
    "bridge = df['structure_id'].iloc[0]\n",
    "df_bridge = df[df['structure_id'] == bridge]\n",
    "plt.plot(df_bridge['inspection_date'], df_bridge['avg_daily_traffic'], label='Traffic')\n",
    "plt.plot(df_bridge['inspection_date'], df_bridge['traffic_rolling_3'], label='Rolling Mean (3)')\n",
    "plt.legend()\n",
    "plt.title('Traffic Rolling Mean for One Bridge')\n",
    "plt.show()"
   ],
   "execution_count": 4,
   "outputs": []
  },
  {
   "cell_type": "markdown",
   "metadata": {},
   "source": [
    "## Save Engineered Data"
   ]
  },
  {
   "cell_type": "code",
   "metadata": {},
   "source": [
    "df.to_csv('../data/processed/features_with_time.csv', index=False)\n",
    "print('Saved with rolling window features.')"
   ],
   "execution_count": 5,
   "outputs": []
  }
 ],
 "metadata": {
  "kernelspec": {
   "display_name": "Python 3",
   "language": "python3"
  },
  "language_info": {
   "name": "python",
   "version": "3.8"
  }
 },
 "nbformat": 4,
 "nbformat_minor": 4
}