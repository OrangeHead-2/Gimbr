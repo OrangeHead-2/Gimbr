{
 "cells": [
  {
   "cell_type": "markdown",
   "metadata": {},
   "source": [
    "# Data Validation - Bridge Failure Prediction"
   ]
  },
  {
   "cell_type": "code",
   "metadata": {},
   "source": [
    "import pandas as pd\n",
    "from src.validation.data_validation import DataValidator\n",
    "from src.data.validation import check_column_ranges, check_allowed_values"
   ],
   "execution_count": 1,
   "outputs": []
  },
  {
   "cell_type": "markdown",
   "metadata": {},
   "source": [
    "## Load Data"
   ]
  },
  {
   "cell_type": "code",
   "metadata": {},
   "source": [
    "df = pd.read_csv('../data/processed/features.csv')"
   ],
   "execution_count": 2,
   "outputs": []
  },
  {
   "cell_type": "markdown",
   "metadata": {},
   "source": [
    "## Schema and Required Columns"
   ]
  },
  {
   "cell_type": "code",
   "metadata": {},
   "source": [
    "schema = {\n",
    "    \"structure_id\": \"object\",\n",
    "    \"inspection_date\": \"datetime64[ns]\",\n",
    "    \"last_maintenance_date\": \"datetime64[ns]\",\n",
    "    \"avg_daily_traffic\": \"float64\",\n",
    "    \"bridge_condition\": \"object\",\n",
    "    \"failure_within_1yr\": \"int64\",\n",
    "    \"latitude\": \"float64\",\n",
    "    \"longitude\": \"float64\",\n",
    "    \"precipitation\": \"float64\",\n",
    "    \"avg_temp\": \"float64\",\n",
    "    \"corrosion_level\": \"float64\",\n",
    "    \"previous_failures\": \"int64\",\n",
    "    \"soil_type\": \"object\",\n",
    "    \"region_code\": \"object\"\n",
    "}\n",
    "required = list(schema.keys())"
   ],
   "execution_count": 3,
   "outputs": []
  },
  {
   "cell_type": "markdown",
   "metadata": {},
   "source": [
    "## Validate Columns and Types"
   ]
  },
  {
   "cell_type": "code",
   "metadata": {},
   "source": [
    "validator = DataValidator(schema=schema, required=required)\n",
    "try:\n",
    "    df_valid = validator.validate(df)\n",
    "    print('Schema and column validation: PASSED')\n",
    "except Exception as e:\n",
    "    print('Schema and column validation: FAILED:', e)"
   ],
   "execution_count": 4,
   "outputs": []
  },
  {
   "cell_type": "markdown",
   "metadata": {},
   "source": [
    "## Range and Allowed Value Checks"
   ]
  },
  {
   "cell_type": "code",
   "metadata": {},
   "source": [
    "try:\n",
    "    check_column_ranges(df, 'avg_daily_traffic', min_val=0)\n",
    "    check_column_ranges(df, 'precipitation', min_val=0)\n",
    "    check_column_ranges(df, 'corrosion_level', min_val=0, max_val=1)\n",
    "    check_allowed_values(df, 'bridge_condition', ['Good', 'Fair', 'Poor'])\n",
    "    print('Range and allowed value checks: PASSED')\n",
    "except Exception as e:\n",
    "    print('Range and allowed value checks: FAILED:', e)"
   ],
   "execution_count": 5,
   "outputs": []
  }
 ],
 "metadata": {
  "kernelspec": {
   "display_name": "Python 3",
   "language": "python",
   "name": "python3"
  },
  "language_info": {
   "name": "python",
   "version": "3.8"
  }
 },
 "nbformat": 4,
 "nbformat_minor": 4
}