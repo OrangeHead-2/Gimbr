{
 "cells": [
  {
   "cell_type": "markdown",
   "metadata": {},
   "source": [
    "# Validation Error Analysis - Bridge Failure Prediction"
   ]
  },
  {
   "cell_type": "code",
   "metadata": {},
   "source": [
    "import pandas as pd\n",
    "from src.validation.data_validation import DataValidator, DataValidationError\n",
    "df = pd.read_csv('../data/processed/features.csv')"
   ],
   "execution_count": 1,
   "outputs": []
  },
  {
   "cell_type": "markdown",
   "metadata": {},
   "source": [
    "## Schema and Required Columns"
   ]
  },
  {
   "cell_type": "code",
   "metadata": {},
   "source": [
    "schema = {\n",
    "    \"structure_id\": \"object\",\n",
    "    \"inspection_date\": \"datetime64[ns]\",\n",
    "    \"last_maintenance_date\": \"datetime64[ns]\",\n",
    "    \"avg_daily_traffic\": \"float64\",\n",
    "    \"bridge_condition\": \"object\",\n",
    "    \"failure_within_1yr\": \"int64\",\n",
    "    \"latitude\": \"float64\",\n",
    "    \"longitude\": \"float64\",\n",
    "    \"precipitation\": \"float64\",\n",
    "    \"avg_temp\": \"float64\",\n",
    "    \"corrosion_level\": \"float64\",\n",
    "    \"previous_failures\": \"int64\",\n",
    "    \"soil_type\": \"object\",\n",
    "    \"region_code\": \"object\"\n",
    "}"
   ],
   "execution_count": 2,
   "outputs": []
  },
  {
   "cell_type": "markdown",
   "metadata": {},
   "source": [
    "## Find and Analyze Validation Errors"
   ]
  },
  {
   "cell_type": "code",
   "metadata": {},
   "source": [
    "validator = DataValidator(schema=schema)\n",
    "try:\n",
    "    validator.validate_columns(df)\n",
    "    df_ok = validator.validate_types(df)\n",
    "    print('Validation PASSED')\n",
    "except DataValidationError as e:\n",
    "    print('Validation FAILED:', e)\n",
    "    # Example: find rows with type errors\n",
    "    for col, dtype in schema.items():\n",
    "        try:\n",
    "            df[col].astype(dtype)\n",
    "        except Exception as ex:\n",
    "            print(f'Column {col} type error: {ex}')"
   ],
   "execution_count": 3,
   "outputs": []
  },
  {
   "cell_type": "markdown",
   "metadata": {},
   "source": [
    "## Nulls and Duplicates"
   ]
  },
  {
   "cell_type": "code",
   "metadata": {},
   "source": [
    "nulls = df.isnull().sum()\n",
    "print('Nulls per column:')\n",
    "print(nulls[nulls > 0])\n",
    "dupes = df.duplicated(subset=['structure_id', 'inspection_date'])\n",
    "print('Duplicate rows:', dupes.sum())"
   ],
   "execution_count": 4,
   "outputs": []
  }
 ],
 "metadata": {
  "kernelspec": {
   "display_name": "Python 3",
   "language": "python3"
  },
  "language_info": {
   "name": "python",
   "version": "3.8"
  }
 },
 "nbformat": 4,
 "nbformat_minor": 4
}