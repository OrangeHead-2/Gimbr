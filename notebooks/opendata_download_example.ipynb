{
 "cells": [
  {
   "cell_type": "markdown",
   "metadata": {},
   "source": [
    "# Open Data Download Example"
   ]
  },
  {
   "cell_type": "markdown",
   "metadata": {},
   "source": [
    "Shows how to programmatically download bridge data from a public open data portal."
   ]
  },
  {
   "cell_type": "code",
   "metadata": {},
   "source": [
    "import requests\n",
    "import pandas as pd"
   ],
   "execution_count": 1,
   "outputs": []
  },
  {
   "cell_type": "markdown",
   "metadata": {},
   "source": [
    "## Example: Download from a Socrata Open Data API"
   ]
  },
  {
   "cell_type": "code",
   "metadata": {},
   "source": [
    "endpoint = \"https://data.transportation.gov/resource/bridges.csv?$limit=5000\"\n",
    "resp = requests.get(endpoint)\n",
    "with open(\"../data/raw/bridges.csv\", \"wb\") as f:\n",
    "    f.write(resp.content)\n",
    "df = pd.read_csv(\"../data/raw/bridges.csv\")\n",
    "print('Downloaded', len(df), 'rows.')"
   ],
   "execution_count": 2,
   "outputs": []
  }
 ],
 "metadata": {
  "kernelspec": {
   "display_name": "Python 3"
  },
  "language_info": {
   "name": "python",
   "version": "3.8"
  }
 },
 "nbformat": 4,
 "nbformat_minor": 4
}