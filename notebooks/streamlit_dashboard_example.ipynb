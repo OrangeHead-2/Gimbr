{
 "cells": [
  {
   "cell_type": "markdown",
   "metadata": {},
   "source": [
    "# Streamlit Dashboard Example - Bridge Failure Prediction"
   ]
  },
  {
   "cell_type": "code",
   "metadata": {},
   "source": [
    "import streamlit as st\n",
    "import pandas as pd\n",
    "import matplotlib.pyplot as plt"
   ],
   "execution_count": 1,
   "outputs": []
  },
  {
   "cell_type": "markdown",
   "metadata": {},
   "source": [
    "## Load Data"
   ]
  },
  {
   "cell_type": "code",
   "metadata": {},
   "source": [
    "df = pd.read_csv('../models/evaluation/predictions.csv')\n",
    "features = pd.read_csv('../data/processed/features.csv')\n",
    "df = df.merge(features, on='structure_id', how='left')"
   ],
   "execution_count": 2,
   "outputs": []
  },
  {
   "cell_type": "markdown",
   "metadata": {},
   "source": [
    "## Interactive Filtering"
   ]
  },
  {
   "cell_type": "code",
   "metadata": {},
   "source": [
    "region = st.selectbox('Select region', sorted(df['region_code'].unique()))\n",
    "filtered = df[df['region_code'] == region]"
   ],
   "execution_count": 3,
   "outputs": []
  },
  {
   "cell_type": "markdown",
   "metadata": {},
   "source": [
    "## Show Table and Histogram"
   ]
  },
  {
   "cell_type": "code",
   "metadata": {},
   "source": [
    "st.write(filtered[['structure_id', 'failure_probability', 'avg_daily_traffic', 'soil_type']].head(20))\n",
    "plt.hist(filtered['failure_probability'], bins=20)\n",
    "plt.xlabel('Failure Probability')\n",
    "plt.ylabel('Count')\n",
    "st.pyplot(plt)"
   ],
   "execution_count": 4,
   "outputs": []
  }
 ],
 "metadata": {
  "kernelspec": {
   "display_name": "Python 3",
   "language": "python3"
  },
  "language_info": {
   "name": "python",
   "version": "3.8"
  }
 },
 "nbformat": 4,
 "nbformat_minor": 4
}