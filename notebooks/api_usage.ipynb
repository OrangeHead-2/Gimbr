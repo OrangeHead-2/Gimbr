{
 "cells": [
  {
   "cell_type": "markdown",
   "metadata": {},
   "source": [
    "# API Usage Example - Bridge Failure Prediction"
   ]
  },
  {
   "cell_type": "markdown",
   "metadata": {},
   "source": [
    "This notebook demonstrates how to interact with the deployed model API."
   ]
  },
  {
   "cell_type": "code",
   "metadata": {},
   "source": [
    "import requests\n",
    "import pandas as pd"
   ],
   "execution_count": 1,
   "outputs": []
  },
  {
   "cell_type": "markdown",
   "metadata": {},
   "source": [
    "## Prepare Example Payload"
   ]
  },
  {
   "cell_type": "code",
   "metadata": {},
   "source": [
    "example = pd.read_csv('../data/processed/features.csv').drop(['failure_within_1yr'], axis=1).head(2)\n",
    "payload = example.to_dict(orient='records')"
   ],
   "execution_count": 2,
   "outputs": []
  },
  {
   "cell_type": "markdown",
   "metadata": {},
   "source": [
    "## Call Prediction Endpoint"
   ]
  },
  {
   "cell_type": "code",
   "metadata": {},
   "source": [
    "url = 'http://localhost:8080/predict'\n",
    "headers = {'Authorization': 'Bearer DEMO_TOKEN'}\n",
    "resp = requests.post(url, json=payload, headers=headers)\n",
    "print('Status:', resp.status_code)\n",
    "print('Response:', resp.json())"
   ],
   "execution_count": 3,
   "outputs": []
  },
  {
   "cell_type": "markdown",
   "metadata": {},
   "source": [
    "## Example Output\n",
    "```json\n",
    "[\n",
    "  {\"structure_id\": \"NY1234\", \"failure_probability\": 0.24},\n",
    "  {\"structure_id\": \"NY5678\", \"failure_probability\": 0.81}\n",
    "]\n",
    "```"
   ]
  }
 ],
 "metadata": {
  "kernelspec": {
   "display_name": "Python 3",
   "language": "python3"
  },
  "language_info": {
   "name": "python",
   "version": "3.8"
  }
 },
 "nbformat": 4,
 "nbformat_minor": 4
}