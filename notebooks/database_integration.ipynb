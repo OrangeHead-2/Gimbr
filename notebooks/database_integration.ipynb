{
 "cells": [
  {
   "cell_type": "markdown",
   "metadata": {},
   "source": [
    "# Database Integration - Bridge Data Ingestion"
   ]
  },
  {
   "cell_type": "code",
   "metadata": {},
   "source": [
    "from src.utils.db import fetch_query_df\n",
    "import os\n",
    "import pandas as pd"
   ],
   "execution_count": 1,
   "outputs": []
  },
  {
   "cell_type": "markdown",
   "metadata": {},
   "source": [
    "## Fetch Data From Postgres"
   ]
  },
  {
   "cell_type": "code",
   "metadata": {},
   "source": [
    "conn_str = os.environ.get('POSTGRES_URL')\n",
    "sql = \"SELECT * FROM bridges WHERE inspection_date >= '2023-01-01'\"\n",
    "df = fetch_query_df(sql, conn_str)\n",
    "df.head()"
   ],
   "execution_count": 2,
   "outputs": []
  },
  {
   "cell_type": "markdown",
   "metadata": {},
   "source": [
    "## Save to CSV"
   ]
  },
  {
   "cell_type": "code",
   "metadata": {},
   "source": [
    "df.to_csv('../data/raw/bridges_from_db.csv', index=False)\n",
    "print('Data exported.')"
   ],
   "execution_count": 3,
   "outputs": []
  }
 ],
 "metadata": {
  "kernelspec": {
   "display_name": "Python 3",
   "language": "python3"
  },
  "language_info": {
   "name": "python",
   "version": "3.8"
  }
 },
 "nbformat": 4,
 "nbformat_minor": 4
}