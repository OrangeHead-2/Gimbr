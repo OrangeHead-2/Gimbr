{
 "cells": [
  {
   "cell_type": "markdown",
   "metadata": {},
   "source": [
    "# Soil and Weather Data Analysis - Bridge Failure Prediction"
   ]
  },
  {
   "cell_type": "code",
   "metadata": {},
   "source": [
    "import pandas as pd\n",
    "import matplotlib.pyplot as plt\n",
    "import seaborn as sns"
   ],
   "execution_count": 1,
   "outputs": []
  },
  {
   "cell_type": "markdown",
   "metadata": {},
   "source": [
    "## Load Data"
   ]
  },
  {
   "cell_type": "code",
   "metadata": {},
   "source": [
    "df = pd.read_csv('../data/processed/features.csv')"
   ],
   "execution_count": 2,
   "outputs": []
  },
  {
   "cell_type": "markdown",
   "metadata": {},
   "source": [
    "## Weather Impact on Failure"
   ]
  },
  {
   "cell_type": "code",
   "metadata": {},
   "source": [
    "sns.boxplot(x='failure_within_1yr', y='precipitation', data=df)\n",
    "plt.title('Precipitation vs Failure')\n",
    "plt.show()\n",
    "sns.boxplot(x='failure_within_1yr', y='avg_temp', data=df)\n",
    "plt.title('Average Temperature vs Failure')\n",
    "plt.show()"
   ],
   "execution_count": 3,
   "outputs": []
  },
  {
   "cell_type": "markdown",
   "metadata": {},
   "source": [
    "## Soil Type Impact"
   ]
  },
  {
   "cell_type": "code",
   "metadata": {},
   "source": [
    "sns.barplot(x='soil_type', y='failure_within_1yr', data=df, ci=None)\n",
    "plt.title('Failure Rate by Soil Type')\n",
    "plt.show()"
   ],
   "execution_count": 4,
   "outputs": []
  },
  {
   "cell_type": "markdown",
   "metadata": {},
   "source": [
    "## Correlation Matrix (Soil, Weather, Corrosion)"
   ]
  },
  {
   "cell_type": "code",
   "metadata": {},
   "source": [
    "corr = df[['precipitation', 'avg_temp', 'corrosion_level', 'failure_within_1yr']].corr()\n",
    "sns.heatmap(corr, annot=True, cmap='coolwarm')\n",
    "plt.title('Correlation: Weather, Corrosion, Failure')\n",
    "plt.show()"
   ],
   "execution_count": 5,
   "outputs": []
  }
 ],
 "metadata": {
  "kernelspec": {
   "display_name": "Python 3",
   "language": "python3"
  },
  "language_info": {
   "name": "python",
   "version": "3.8"
  }
 },
 "nbformat": 4,
 "nbformat_minor": 4
}