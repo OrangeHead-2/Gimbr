{
 "cells": [
  {
   "cell_type": "markdown",
   "metadata": {},
   "source": [
    "# Fairness and Bias Analysis - Bridge Failure Prediction"
   ]
  },
  {
   "cell_type": "code",
   "metadata": {},
   "source": [
    "import pandas as pd\n",
    "import matplotlib.pyplot as plt\n",
    "import seaborn as sns"
   ],
   "execution_count": 1,
   "outputs": []
  },
  {
   "cell_type": "markdown",
   "metadata": {},
   "source": [
    "## Load Data and Predictions"
   ]
  },
  {
   "cell_type": "code",
   "metadata": {},
   "source": [
    "df = pd.read_csv('../models/evaluation/predictions.csv')\n",
    "features = pd.read_csv('../data/processed/features.csv')\n",
    "df = df.merge(features[['structure_id', 'region_code', 'soil_type', 'avg_daily_traffic']], on='structure_id', how='left')"
   ],
   "execution_count": 2,
   "outputs": []
  },
  {
   "cell_type": "markdown",
   "metadata": {},
   "source": [
    "## Compare Failure Probability by Region"
   ]
  },
  {
   "cell_type": "code",
   "metadata": {},
   "source": [
    "sns.boxplot(x='region_code', y='failure_probability', data=df)\n",
    "plt.title('Failure Probability by Region')\n",
    "plt.show()"
   ],
   "execution_count": 3,
   "outputs": []
  },
  {
   "cell_type": "markdown",
   "metadata": {},
   "source": [
    "## Disparity by Soil Type"
   ]
  },
  {
   "cell_type": "code",
   "metadata": {},
   "source": [
    "sns.barplot(x='soil_type', y='failure_probability', data=df, ci=None)\n",
    "plt.title('Mean Failure Probability by Soil Type')\n",
    "plt.show()"
   ],
   "execution_count": 4,
   "outputs": []
  },
  {
   "cell_type": "markdown",
   "metadata": {},
   "source": [
    "## Traffic Volume and Failure Probability"
   ]
  },
  {
   "cell_type": "code",
   "metadata": {},
   "source": [
    "sns.scatterplot(x='avg_daily_traffic', y='failure_probability', data=df, alpha=0.4)\n",
    "plt.title('Failure Probability vs Average Daily Traffic')\n",
    "plt.show()"
   ],
   "execution_count": 5,
   "outputs": []
  },
  {
   "cell_type": "markdown",
   "metadata": {},
   "source": [
    "## Statistical Test: Regional Disparity"
   ]
  },
  {
   "cell_type": "code",
   "metadata": {},
   "source": [
    "from scipy.stats import f_oneway\n",
    "region_groups = [g['failure_probability'].values for _, g in df.groupby('region_code')]\n",
    "fstat, pval = f_oneway(*region_groups)\n",
    "print(f'ANOVA F={fstat:.2f}, p={pval:.3g}')"
   ],
   "execution_count": 6,
   "outputs": []
  }
 ],
 "metadata": {
  "kernelspec": {
   "display_name": "Python 3",
   "language": "python3"
  },
  "language_info": {
   "name": "python",
   "version": "3.8"
  }
 },
 "nbformat": 4,
 "nbformat_minor": 4
}