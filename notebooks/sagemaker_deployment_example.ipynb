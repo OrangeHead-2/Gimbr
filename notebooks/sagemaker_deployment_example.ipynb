{
 "cells": [
  {
   "cell_type": "markdown",
   "metadata": {},
   "source": [
    "# SageMaker Deployment Example"
   ]
  },
  {
   "cell_type": "markdown",
   "metadata": {},
   "source": [
    "Demonstrates deploying the model to AWS SageMaker using the Python SDK."
   ]
  },
  {
   "cell_type": "code",
   "metadata": {},
   "source": [
    "import sagemaker\n",
    "from sagemaker.sklearn.model import SKLearnModel\n",
    "import boto3\n",
    "import os"
   ],
   "execution_count": 1,
   "outputs": []
  },
  {
   "cell_type": "markdown",
   "metadata": {},
   "source": [
    "## Setup SageMaker Session and Role"
   ]
  },
  {
   "cell_type": "code",
   "metadata": {},
   "source": [
    "session = sagemaker.Session()\n",
    "role = os.environ['SAGEMAKER_ROLE_ARN']"
   ],
   "execution_count": 2,
   "outputs": []
  },
  {
   "cell_type": "markdown",
   "metadata": {},
   "source": [
    "## Upload Model Artifact"
   ]
  },
  {
   "cell_type": "code",
   "metadata": {},
   "source": [
    "model_artifact = session.upload_data('../models/trained/model.joblib', key_prefix='bridge-failure-model')"
   ],
   "execution_count": 3,
   "outputs": []
  },
  {
   "cell_type": "markdown",
   "metadata": {},
   "source": [
    "## Deploy Model as Endpoint"
   ]
  },
  {
   "cell_type": "code",
   "metadata": {},
   "source": [
    "sklearn_model = SKLearnModel(model_data=model_artifact,\n",
    "                            role=role,\n",
    "                            entry_point='../src/serve/sagemaker_handler.py',\n",
    "                            framework_version='0.23-1')\n",
    "predictor = sklearn_model.deploy(instance_type='ml.m5.large', endpoint_name='bridge-failure-endpoint')\n",
    "print('Endpoint deployed:', predictor.endpoint_name)"
   ],
   "execution_count": 4,
   "outputs": []
  }
 ],
 "metadata": {
  "kernelspec": {
   "display_name": "Python 3"
  },
  "language_info": {
   "name": "python",
   "version": "3.8"
  }
 },
 "nbformat": 4,
 "nbformat_minor": 4
}