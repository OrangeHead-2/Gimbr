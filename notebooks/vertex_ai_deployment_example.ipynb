{
 "cells": [
  {
   "cell_type": "markdown",
   "metadata": {},
   "source": [
    "# Google Vertex AI Deployment Example"
   ]
  },
  {
   "cell_type": "markdown",
   "metadata": {},
   "source": [
    "Demonstrates deploying the model to Google Vertex AI using the Python SDK."
   ]
  },
  {
   "cell_type": "code",
   "metadata": {},
   "source": [
    "from google.cloud import aiplatform\n",
    "import os"
   ],
   "execution_count": 1,
   "outputs": []
  },
  {
   "cell_type": "markdown",
   "metadata": {},
   "source": [
    "## Set Project and Location"
   ]
  },
  {
   "cell_type": "code",
   "metadata": {},
   "source": [
    "project = os.environ.get('GCP_PROJECT_ID')\n",
    "location = os.environ.get('GCP_REGION', 'us-central1')\n",
    "bucket = os.environ.get('GCP_BUCKET_NAME')"
   ],
   "execution_count": 2,
   "outputs": []
  },
  {
   "cell_type": "markdown",
   "metadata": {},
   "source": [
    "## Upload Model Artifact to GCS"
   ]
  },
  {
   "cell_type": "code",
   "metadata": {},
   "source": [
    "# gsutil cp ../models/trained/model.joblib gs://$bucket/bridge_failure/model.joblib"
   ],
   "execution_count": 3,
   "outputs": []
  },
  {
   "cell_type": "markdown",
   "metadata": {},
   "source": [
    "## Deploy Model to Vertex AI"
   ]
  },
  {
   "cell_type": "code",
   "metadata": {},
   "source": [
    "aiplatform.init(project=project, location=location)\n",
    "model = aiplatform.Model.upload(\n",
    "    display_name=\"bridge_failure_rf\",\n",
    "    artifact_uri=f\"gs://{bucket}/bridge_failure/model.joblib\",\n",
    "    serving_container_image_uri=\"us-docker.pkg.dev/vertex-ai/prediction/sklearn-cpu.0-24:latest\"\n",
    ")\n",
    "endpoint = model.deploy(machine_type=\"n1-standard-2\")\n",
    "print('Vertex AI endpoint deployed:', endpoint.resource_name)"
   ],
   "execution_count": 4,
   "outputs": []
  }
 ],
 "metadata": {
  "kernelspec": {
   "display_name": "Python 3"
  },
  "language_info": {
   "name": "python",
   "version": "3.8"
  }
 },
 "nbformat": 4,
 "nbformat_minor": 4
}