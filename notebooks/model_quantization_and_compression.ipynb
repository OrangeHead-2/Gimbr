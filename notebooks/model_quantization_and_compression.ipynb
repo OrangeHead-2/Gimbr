{
 "cells": [
  {
   "cell_type": "markdown",
   "metadata": {},
   "source": [
    "# Model Quantization and Compression Demo"
   ]
  },
  {
   "cell_type": "code",
   "metadata": {},
   "source": [
    "import joblib\n",
    "import os\n",
    "import numpy as np\n",
    "from sklearn.ensemble import RandomForestClassifier\n",
    "from sklearn import datasets\n",
    "import tempfile\n"
   ],
   "execution_count": 1,
   "outputs": []
  },
  {
   "cell_type": "markdown",
   "metadata": {},
   "source": [
    "## Load Model and Save Baseline Size"
   ]
  },
  {
   "cell_type": "code",
   "metadata": {},
   "source": [
    "model_path = '../models/trained/model.joblib'\n",
    "model = joblib.load(model_path)\n",
    "size_before = os.path.getsize(model_path) / 1024\n",
    "print(f'Model original size: {size_before:.2f} KB')"
   ],
   "execution_count": 2,
   "outputs": []
  },
  {
   "cell_type": "markdown",
   "metadata": {},
   "source": [
    "## Apply Quantization (float32 → float16)\n",
    "RandomForest does not directly support quantization, but tree thresholds and values can be compressed for demo purposes."
   ]
  },
  {
   "cell_type": "code",
   "metadata": {},
   "source": [
    "def quantize_rf(rf):\n",
    "    for est in rf.estimators_:\n",
    "        for tree in [est.tree_]:\n",
    "            tree.value[:] = tree.value.astype(np.float16)\n",
    "            tree.threshold[:] = tree.threshold.astype(np.float16)\n",
    "    return rf\n",
    "quantized = quantize_rf(model)\n",
    "with tempfile.NamedTemporaryFile(delete=False) as tmp:\n",
    "    joblib.dump(quantized, tmp.name)\n",
    "    size_after = os.path.getsize(tmp.name) / 1024\n",
    "print(f'Compressed size: {size_after:.2f} KB')"
   ],
   "execution_count": 3,
   "outputs": []
  },
  {
   "cell_type": "markdown",
   "metadata": {},
   "source": [
    "## Evaluate Quantized Model (Optional, for demo)"
   ]
  },
  {
   "cell_type": "code",
   "metadata": {},
   "source": [
    "# Load data for a quick check\n",
    "import pandas as pd\n",
    "df = pd.read_csv('../data/processed/features.csv')\n",
    "X = df.drop(['failure_within_1yr', 'structure_id'], axis=1)\n",
    "y = df['failure_within_1yr']\n",
    "print('Score (original):', model.score(X, y))\n",
    "print('Score (quantized):', quantized.score(X, y))"
   ],
   "execution_count": 4,
   "outputs": []
  }
 ],
 "metadata": {
  "kernelspec": {
   "display_name": "Python 3",
   "language": "python3"
  },
  "language_info": {
   "name": "python",
   "version": "3.8"
  }
 },
 "nbformat": 4,
 "nbformat_minor": 4
}