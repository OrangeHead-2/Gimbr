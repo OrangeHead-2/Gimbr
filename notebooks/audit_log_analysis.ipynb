{
 "cells": [
  {
   "cell_type": "markdown",
   "metadata": {},
   "source": [
    "# Audit Log Analysis"
   ]
  },
  {
   "cell_type": "code",
   "metadata": {},
   "source": [
    "import json\n",
    "import pandas as pd\n",
    "import matplotlib.pyplot as plt\n",
    "\n",
    "def load_audit_log(path):\n",
    "    with open(path) as f:\n",
    "        return [json.loads(line) for line in f]\n",
    "\n",
    "audit_entries = load_audit_log('../logs/audit.log')\n",
    "df = pd.DataFrame(audit_entries)\n",
    "df['ts'] = pd.to_datetime(df['ts'])"
   ],
   "execution_count": 1,
   "outputs": []
  },
  {
   "cell_type": "markdown",
   "metadata": {},
   "source": [
    "## Actions Over Time"
   ]
  },
  {
   "cell_type": "code",
   "metadata": {},
   "source": [
    "df.set_index('ts').groupby('action')['event_type'].resample('D').count().unstack(0).plot()\n",
    "plt.title('Actions Over Time')\n",
    "plt.ylabel('Count')\n",
    "plt.show()"
   ],
   "execution_count": 2,
   "outputs": []
  },
  {
   "cell_type": "markdown",
   "metadata": {},
   "source": [
    "## Success vs Failure"
   ]
  },
  {
   "cell_type": "code",
   "metadata": {},
   "source": [
    "df['status'].value_counts().plot(kind='bar')\n",
    "plt.title('Audit Log Status Counts')\n",
    "plt.ylabel('Count')\n",
    "plt.xlabel('Status')\n",
    "plt.show()"
   ],
   "execution_count": 3,
   "outputs": []
  }
 ],
 "metadata": {
  "kernelspec": {
   "display_name": "Python 3",
   "language": "python3"
  },
  "language_info": {
   "name": "python",
   "version": "3.8"
  }
 },
 "nbformat": 4,
 "nbformat_minor": 4
}