{
 "cells": [
  {
   "cell_type": "markdown",
   "metadata": {},
   "source": [
    "# Model Retraining and Monitoring - Bridge Failure Prediction"
   ]
  },
  {
   "cell_type": "code",
   "metadata": {},
   "source": [
    "import pandas as pd\n",
    "from sklearn.ensemble import RandomForestClassifier\n",
    "from sklearn.model_selection import train_test_split\n",
    "from sklearn.metrics import roc_auc_score\n",
    "import joblib\n",
    "import matplotlib.pyplot as plt\n",
    "from src.models.train import drift_detection"
   ],
   "execution_count": 1,
   "outputs": []
  },
  {
   "cell_type": "markdown",
   "metadata": {},
   "source": [
    "## Load Current and New Data"
   ]
  },
  {
   "cell_type": "code",
   "metadata": {},
   "source": [
    "df_current = pd.read_csv(\"../data/processed/features.csv\")\n",
    "df_new = pd.read_csv(\"../data/processed/features_new.csv\")"
   ],
   "execution_count": 2,
   "outputs": []
  },
  {
   "cell_type": "markdown",
   "metadata": {},
   "source": [
    "## Drift Monitoring"
   ]
  },
  {
   "cell_type": "code",
   "metadata": {},
   "source": [
    "features = [c for c in df_current.columns if c not in ['structure_id', 'failure_within_1yr']]\n",
    "drift = drift_detection(df_new, df_current, features)\n",
    "import pandas as pd\n",
    "drift_df = pd.DataFrame.from_dict(drift, orient='index')\n",
    "drift_df.sort_values('p_value').head()"
   ],
   "execution_count": 3,
   "outputs": []
  },
  {
   "cell_type": "markdown",
   "metadata": {},
   "source": [
    "## Retrain Model if Significant Drift Detected"
   ]
  },
  {
   "cell_type": "code",
   "metadata": {},
   "source": [
    "if (drift_df['p_value'] < 0.05).any():\n",
    "    print(\"Significant drift detected! Retraining model...\")\n",
    "    X = df_new.drop(['failure_within_1yr', 'structure_id'], axis=1)\n",
    "    y = df_new['failure_within_1yr']\n",
    "    X_train, X_test, y_train, y_test = train_test_split(X, y, test_size=0.3, random_state=42, stratify=y)\n",
    "    model = RandomForestClassifier(n_estimators=100, max_depth=7, random_state=42)\n",
    "    model.fit(X_train, y_train)\n",
    "    joblib.dump(model, '../models/trained/model_retrained.joblib')\n",
    "else:\n",
    "    print(\"No significant drift detected. No retraining needed.\")"
   ],
   "execution_count": 4,
   "outputs": []
  },
  {
   "cell_type": "markdown",
   "metadata": {},
   "source": [
    "## Evaluate Retrained Model"
   ]
  },
  {
   "cell_type": "code",
   "metadata": {},
   "source": [
    "model = joblib.load('../models/trained/model_retrained.joblib')\n",
    "y_pred = model.predict(X_test)\n",
    "y_proba = model.predict_proba(X_test)[:,1]\n",
    "print('ROC AUC:', roc_auc_score(y_test, y_proba))"
   ],
   "execution_count": 5,
   "outputs": []
  },
  {
   "cell_type": "markdown",
   "metadata": {},
   "source": [
    "## Plot Feature Importances (Retrained)"
   ]
  },
  {
   "cell_type": "code",
   "metadata": {},
   "source": [
    "importances = model.feature_importances_\n",
    "features_names = X_test.columns\n",
    "pd.Series(importances, index=features_names).sort_values(ascending=False).plot(kind='bar', figsize=(12,4))\n",
    "plt.title('Retrained Model Feature Importance')\n",
    "plt.tight_layout()\n",
    "plt.show()"
   ],
   "execution_count": 6,
   "outputs": []
  }
 ],
 "metadata": {
  "kernelspec": {
   "display_name": "Python 3",
   "language": "python",
   "name": "python3"
  },
  "language_info": {
   "name": "python",
   "version": "3.8"
  }
 },
 "nbformat": 4,
 "nbformat_minor": 4
}