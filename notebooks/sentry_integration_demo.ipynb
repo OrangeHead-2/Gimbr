{
 "cells": [
  {
   "cell_type": "markdown",
   "metadata": {},
   "source": [
    "# Sentry Integration Demo"
   ]
  },
  {
   "cell_type": "code",
   "metadata": {},
   "source": [
    "from src.monitoring.sentry_integration import init_sentry\n",
    "import os"
   ],
   "execution_count": 1,
   "outputs": []
  },
  {
   "cell_type": "markdown",
   "metadata": {},
   "source": [
    "## Initialize Sentry"
   ]
  },
  {
   "cell_type": "code",
   "metadata": {},
   "source": [
    "dsn = os.environ.get('SENTRY_DSN', None)\n",
    "if dsn:\n",
    "    init_sentry(dsn)\n",
    "    print('Sentry initialized.')\n",
    "else:\n",
    "    print('No SENTRY_DSN set. Skipping Sentry init.')"
   ],
   "execution_count": 2,
   "outputs": []
  },
  {
   "cell_type": "markdown",
   "metadata": {},
   "source": [
    "## Simulate Error to Log in Sentry"
   ]
  },
  {
   "cell_type": "code",
   "metadata": {},
   "source": [
    "try:\n",
    "    1 / 0\n",
    "except Exception as e:\n",
    "    import sentry_sdk\n",
    "    sentry_sdk.capture_exception(e)\n",
    "    print('Exception sent to Sentry!')"
   ],
   "execution_count": 3,
   "outputs": []
  }
 ],
 "metadata": {
  "kernelspec": {
   "display_name": "Python 3",
   "language": "python3"
  },
  "language_info": {
   "name": "python",
   "version": "3.8"
  }
 },
 "nbformat": 4,
 "nbformat_minor": 4
}