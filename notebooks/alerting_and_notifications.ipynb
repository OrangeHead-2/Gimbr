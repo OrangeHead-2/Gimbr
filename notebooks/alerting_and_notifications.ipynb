{
 "cells": [
  {
   "cell_type": "markdown",
   "metadata": {},
   "source": [
    "# Alerting and Notifications - Bridge Failure Prediction"
   ]
  },
  {
   "cell_type": "code",
   "metadata": {},
   "source": [
    "from src.notification.slack import send_slack_alert\n",
    "from src.notification.email import send_email\n",
    "import os"
   ],
   "execution_count": 1,
   "outputs": []
  },
  {
   "cell_type": "markdown",
   "metadata": {},
   "source": [
    "## Slack Alert Example"
   ]
  },
  {
   "cell_type": "code",
   "metadata": {},
   "source": [
    "webhook = os.environ.get('SLACK_WEBHOOK_URL')\n",
    "message = \"🚨 Model drift detected in bridge features!\"\n",
    "send_slack_alert(webhook, message)\n",
    "print('Slack alert sent.')"
   ],
   "execution_count": 2,
   "outputs": []
  },
  {
   "cell_type": "markdown",
   "metadata": {},
   "source": [
    "## Email Alert Example"
   ]
  },
  {
   "cell_type": "code",
   "metadata": {},
   "source": [
    "smtp_server = os.environ.get('SMTP_SERVER')\n",
    "smtp_port = int(os.environ.get('SMTP_PORT', 587))\n",
    "smtp_user = os.environ.get('SMTP_USER')\n",
    "smtp_pass = os.environ.get('SMTP_PASSWORD')\n",
    "to = os.environ.get('ALERT_EMAIL', 'user@example.com')\n",
    "subject = \"Bridge Failure Model Alert\"\n",
    "body = \"Model drift detected. Retraining triggered.\"\n",
    "send_email(to, subject, body, smtp_server, smtp_port, smtp_user, smtp_pass)\n",
    "print('Email alert sent.')"
   ],
   "execution_count": 3,
   "outputs": []
  }
 ],
 "metadata": {
  "kernelspec": {
   "display_name": "Python 3",
   "language": "python",
   "name": "python3"
  },
  "language_info": {
   "name": "python",
   "version": "3.8"
  }
 },
 "nbformat": 4,
 "nbformat_minor": 4
}