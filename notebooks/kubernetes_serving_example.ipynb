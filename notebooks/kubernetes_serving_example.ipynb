{
 "cells": [
  {
   "cell_type": "markdown",
   "metadata": {},
   "source": [
    "# Kubernetes Model Serving Example"
   ]
  },
  {
   "cell_type": "markdown",
   "metadata": {},
   "source": [
    "Demonstrates a minimal deployment YAML for serving the bridge failure model with Kubernetes."
   ]
  },
  {
   "cell_type": "markdown",
   "metadata": {},
   "source": [
    "## Example: Deployment YAML"
   ]
  },
  {
   "cell_type": "markdown",
   "metadata": {},
   "source": [
    "```yaml\n",
    "apiVersion: apps/v1\n",
    "kind: Deployment\n",
    "metadata:\n",
    "  name: bridge-failure-api\n",
    "spec:\n",
    "  replicas: 2\n",
    "  selector:\n",
    "    matchLabels:\n",
    "      app: bridge-failure-api\n",
    "  template:\n",
    "    metadata:\n",
    "      labels:\n",
    "        app: bridge-failure-api\n",
    "    spec:\n",
    "      containers:\n",
    "      - name: api\n",
    "        image: ghcr.io/your-org/bridge-failure-api:latest\n",
    "        ports:\n",
    "        - containerPort: 8080\n",
    "        env:\n",
    "        - name: MODEL_PATH\n",
    "          value: /models/model.joblib\n",
    "        volumeMounts:\n",
    "        - name: model-storage\n",
    "          mountPath: /models\n",
    "      volumes:\n",
    "      - name: model-storage\n",
    "        persistentVolumeClaim:\n",
    "          claimName: model-pvc\n",
    "---\n",
    "apiVersion: v1\n",
    "kind: Service\n",
    "metadata:\n",
    "  name: bridge-failure-api\n",
    "spec:\n",
    "  selector:\n",
    "    app: bridge-failure-api\n",
    "  ports:\n",
    "    - protocol: TCP\n",
    "      port: 80\n",
    "      targetPort: 8080\n",
    "```"
   ]
  },
  {
   "cell_type": "markdown",
   "metadata": {},
   "source": [
    "## How to Deploy\n",
    "- `kubectl apply -f kubernetes_serving_example.yaml`\n",
    "- Update image, PVC, and any resources as needed for your cluster."
   ]
  }
 ],
 "metadata": {
  "kernelspec": {
   "display_name": "Python 3",
   "language": "python3"
  },
  "language_info": {
   "name": "python",
   "version": "3.8"
  }
 },
 "nbformat": 4,
 "nbformat_minor": 4
}