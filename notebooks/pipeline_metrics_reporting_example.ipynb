{
 "cells": [
  {
   "cell_type": "markdown",
   "metadata": {},
   "source": [
    "# Pipeline Metrics Reporting Example"
   ]
  },
  {
   "cell_type": "markdown",
   "metadata": {},
   "source": [
    "This notebook demonstrates logging and reporting pipeline metrics such as data ingestion status, model training, and serving results."
   ]
  },
  {
   "cell_type": "code",
   "metadata": {},
   "source": [
    "import pandas as pd\n",
    "from datetime import datetime\n",
    "import json\n",
    "import os"
   ],
   "execution_count": 1,
   "outputs": []
  },
  {
   "cell_type": "markdown",
   "metadata": {},
   "source": [
    "## Example: Logging Metrics to File"
   ]
  },
  {
   "cell_type": "code",
   "metadata": {},
   "source": [
    "metrics = {\n",
    "    'timestamp': str(datetime.utcnow()),\n",
    "    'stage': 'model_training',\n",
    "    'status': 'success',\n",
    "    'records_processed': 45321,\n",
    "    'roc_auc': 0.872,\n",
    "    'duration_sec': 128.3\n",
    "}\n",
    "with open('../logs/pipeline_metrics.log', 'a') as f:\n",
    "    f.write(json.dumps(metrics) + '\\n')\n",
    "print('Metrics logged:', metrics)"
   ],
   "execution_count": 2,
   "outputs": []
  },
  {
   "cell_type": "markdown",
   "metadata": {},
   "source": [
    "## Example: Read and Report Metrics"
   ]
  },
  {
   "cell_type": "code",
   "metadata": {},
   "source": [
    "def load_metrics(path):\n",
    "    with open(path) as f:\n",
    "        return [json.loads(line) for line in f]\n",
    "\n",
    "metrics_list = load_metrics('../logs/pipeline_metrics.log')\n",
    "df = pd.DataFrame(metrics_list)\n",
    "display(df.tail())"
   ],
   "execution_count": 3,
   "outputs": []
  },
  {
   "cell_type": "markdown",
   "metadata": {},
   "source": [
    "## Example: Visualize ROC AUC Over Time"
   ]
  },
  {
   "cell_type": "code",
   "metadata": {},
   "source": [
    "import matplotlib.pyplot as plt\n",
    "if not df.empty:\n",
    "    df['timestamp'] = pd.to_datetime(df['timestamp'])\n",
    "    auc_df = df[df['roc_auc'].notnull()]\n",
    "    plt.plot(auc_df['timestamp'], auc_df['roc_auc'], marker='o')\n",
    "    plt.title('ROC AUC Over Time')\n",
    "    plt.xlabel('Timestamp')\n",
    "    plt.ylabel('ROC AUC')\n",
    "    plt.show()\n",
    "else:\n",
    "    print('No metrics to plot.')"
   ],
   "execution_count": 4,
   "outputs": []
  }
 ],
 "metadata": {
  "kernelspec": {
   "display_name": "Python 3",
   "language": "python3"
  },
  "language_info": {
   "name": "python",
   "version": "3.8"
  }
 },
 "nbformat": 4,
 "nbformat_minor": 4
}