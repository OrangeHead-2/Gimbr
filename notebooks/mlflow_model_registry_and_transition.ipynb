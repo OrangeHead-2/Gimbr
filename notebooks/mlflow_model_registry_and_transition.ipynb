{
 "cells": [
  {
   "cell_type": "markdown",
   "metadata": {},
   "source": [
    "# MLflow Model Registry and Stage Transition Example"
   ]
  },
  {
   "cell_type": "markdown",
   "metadata": {},
   "source": [
    "Demonstrates registering a new model and transitioning its stage with the MLflow Tracking API."
   ]
  },
  {
   "cell_type": "code",
   "metadata": {},
   "source": [
    "import mlflow\n",
    "from mlflow.tracking import MlflowClient\n",
    "import os"
   ],
   "execution_count": 1,
   "outputs": []
  },
  {
   "cell_type": "markdown",
   "metadata": {},
   "source": [
    "## Register Model"
   ]
  },
  {
   "cell_type": "code",
   "metadata": {},
   "source": [
    "client = MlflowClient()\n",
    "artifact_path = '../models/trained/model.joblib'\n",
    "model_name = 'bridge_failure_rf'\n",
    "# Log a new run and register the model\n",
    "run = mlflow.start_run(run_name='prod_register')\n",
    "mlflow.log_artifact(artifact_path)\n",
    "mlflow.sklearn.log_model(\n",
    "    sk_model=None, artifact_path='model', registered_model_name=model_name\n",
    ")  # You would pass a real model in actual usage\n",
    "mlflow.end_run()\n",
    "print('Model registered to MLflow.')"
   ],
   "execution_count": 2,
   "outputs": []
  },
  {
   "cell_type": "markdown",
   "metadata": {},
   "source": [
    "## Transition Model to Production"
   ]
  },
  {
   "cell_type": "code",
   "metadata": {},
   "source": [
    "latest = client.get_latest_versions(model_name, stages=[\"None\"])[0]\n",
    "client.transition_model_version_stage(\n",
    "    name=model_name,\n",
    "    version=latest.version,\n",
    "    stage=\"Production\",\n",
    ")\n",
    "print(f\"Model {model_name} v{latest.version} transitioned to Production.\")"
   ],
   "execution_count": 3,
   "outputs": []
  }
 ],
 "metadata": {
  "kernelspec": {
   "display_name": "Python 3"
  },
  "language_info": {
   "name": "python",
   "version": "3.8"
  }
 },
 "nbformat": 4,
 "nbformat_minor": 4
}