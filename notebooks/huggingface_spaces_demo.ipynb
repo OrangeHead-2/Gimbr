{
 "cells": [
  {
   "cell_type": "markdown",
   "metadata": {},
   "source": [
    "# Hugging Face Spaces Demo Example"
   ]
  },
  {
   "cell_type": "markdown",
   "metadata": {},
   "source": [
    "Demo for deploying a Gradio UI on Hugging Face Spaces for bridge failure prediction."
   ]
  },
  {
   "cell_type": "code",
   "metadata": {},
   "source": [
    "import gradio as gr\n",
    "import joblib\n",
    "import pandas as pd"
   ],
   "execution_count": 1,
   "outputs": []
  },
  {
   "cell_type": "markdown",
   "metadata": {},
   "source": [
    "## Load Model"
   ]
  },
  {
   "cell_type": "code",
   "metadata": {},
   "source": [
    "model = joblib.load('models/trained/model.joblib')\n",
    "features = pd.read_csv('data/processed/features.csv').drop(['failure_within_1yr', 'structure_id'], axis=1).columns.tolist()"
   ],
   "execution_count": 2,
   "outputs": []
  },
  {
   "cell_type": "markdown",
   "metadata": {},
   "source": [
    "## Define Prediction Function"
   ]
  },
  {
   "cell_type": "code",
   "metadata": {},
   "source": [
    "def predict_bridge_failure(**kwargs):\n",
    "    df = pd.DataFrame([kwargs])\n",
    "    prob = model.predict_proba(df)[:, 1][0]\n",
    "    return f\"Probability of failure within 1 year: {prob:.2%}\""
   ],
   "execution_count": 3,
   "outputs": []
  },
  {
   "cell_type": "markdown",
   "metadata": {},
   "source": [
    "## Build Gradio UI"
   ]
  },
  {
   "cell_type": "code",
   "metadata": {},
   "source": [
    "inputs = [gr.Number(label=feat) for feat in features]\n",
    "iface = gr.Interface(\n",
    "    fn=predict_bridge_failure,\n",
    "    inputs=inputs,\n",
    "    outputs=gr.Textbox(label=\"Prediction\"),\n",
    "    title=\"Bridge Failure Risk Predictor\"\n",
    ")\n",
    "iface.launch()"
   ],
   "execution_count": 4,
   "outputs": []
  }
 ],
 "metadata": {
  "kernelspec": {
   "display_name": "Python 3"
  },
  "language_info": {
   "name": "python",
   "version": "3.8"
  }
 },
 "nbformat": 4,
 "nbformat_minor": 4
}