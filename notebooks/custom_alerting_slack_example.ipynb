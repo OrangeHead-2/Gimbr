{
 "cells": [
  {
   "cell_type": "markdown",
   "metadata": {},
   "source": [
    "# Custom Alerting (Slack) Example"
   ]
  },
  {
   "cell_type": "markdown",
   "metadata": {},
   "source": [
    "Demonstrates how to send pipeline/model alerts to a Slack channel."
   ]
  },
  {
   "cell_type": "code",
   "metadata": {},
   "source": [
    "import os\n",
    "import requests"
   ],
   "execution_count": 1,
   "outputs": []
  },
  {
   "cell_type": "markdown",
   "metadata": {},
   "source": [
    "## Send Slack Notification"
   ]
  },
  {
   "cell_type": "code",
   "metadata": {},
   "source": [
    "def send_slack_alert(message, webhook_url):\n",
    "    payload = {'text': message}\n",
    "    resp = requests.post(webhook_url, json=payload)\n",
    "    return resp.status_code\n",
    "\n",
    "webhook_url = os.environ.get('SLACK_WEBHOOK_URL')\n",
    "if webhook_url:\n",
    "    status = send_slack_alert('ALERT: Bridge model drift detected!', webhook_url)\n",
    "    print('Slack alert sent, status:', status)\n",
    "else:\n",
    "    print('No SLACK_WEBHOOK_URL configured; skipping alert.')"
   ],
   "execution_count": 2,
   "outputs": []
  }
 ],
 "metadata": {
  "kernelspec": {
   "display_name": "Python 3",
   "language": "python3"
  },
  "language_info": {
   "name": "python",
   "version": "3.8"
  }
 },
 "nbformat": 4,
 "nbformat_minor": 4
}