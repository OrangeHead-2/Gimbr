{
 "cells": [
  {
   "cell_type": "markdown",
   "metadata": {},
   "source": [
    "# Production Serving Benchmark - Bridge Failure Prediction"
   ]
  },
  {
   "cell_type": "code",
   "metadata": {},
   "source": [
    "import requests\n",
    "import time\n",
    "import pandas as pd\n",
    "import numpy as np"
   ],
   "execution_count": 1,
   "outputs": []
  },
  {
   "cell_type": "markdown",
   "metadata": {},
   "source": [
    "## Prepare Batch Payload"
   ]
  },
  {
   "cell_type": "code",
   "metadata": {},
   "source": [
    "df = pd.read_csv('../data/processed/features.csv')\n",
    "payload = df.drop(['failure_within_1yr'], axis=1).to_dict(orient='records')"
   ],
   "execution_count": 2,
   "outputs": []
  },
  {
   "cell_type": "markdown",
   "metadata": {},
   "source": [
    "## Benchmark API Throughput and Latency"
   ]
  },
  {
   "cell_type": "code",
   "metadata": {},
   "source": [
    "url = 'http://localhost:8080/predict'\n",
    "headers = {'Authorization': 'Bearer DEMO_TOKEN'}\n",
    "\n",
    "batch_sizes = [1, 10, 100, 500]\n",
    "results = []\n",
    "\n",
    "for batch in batch_sizes:\n",
    "    samples = payload[:batch]\n",
    "    start = time.time()\n",
    "    resp = requests.post(url, json=samples, headers=headers)\n",
    "    elapsed = time.time() - start\n",
    "    results.append({'batch_size': batch, 'elapsed_sec': elapsed, 'status': resp.status_code})\n",
    "    print(f'Batch {batch}: {elapsed:.3f}s, status {resp.status_code}')"
   ],
   "execution_count": 3,
   "outputs": []
  },
  {
   "cell_type": "markdown",
   "metadata": {},
   "source": [
    "## Plot Latency vs Batch Size"
   ]
  },
  {
   "cell_type": "code",
   "metadata": {},
   "source": [
    "import matplotlib.pyplot as plt\n",
    "df_bench = pd.DataFrame(results)\n",
    "plt.plot(df_bench['batch_size'], df_bench['elapsed_sec'], marker='o')\n",
    "plt.xscale('log')\n",
    "plt.xlabel('Batch Size (log scale)')\n",
    "plt.ylabel('Elapsed Time (s)')\n",
    "plt.title('API Latency vs Batch Size')\n",
    "plt.show()"
   ],
   "execution_count": 4,
   "outputs": []
  }
 ],
 "metadata": {
  "kernelspec": {
   "display_name": "Python 3",
   "language": "python3"
  },
  "language_info": {
   "name": "python",
   "version": "3.8"
  }
 },
 "nbformat": 4,
 "nbformat_minor": 4
}