{
 "cells": [
  {
   "cell_type": "markdown",
   "metadata": {},
   "source": [
    "# Model Card and Documentation - Bridge Failure Prediction"
   ]
  },
  {
   "cell_type": "markdown",
   "metadata": {},
   "source": [
    "## Model Overview\n",
    "\n",
    "- **Model type:** Random Forest Classifier\n",
    "- **Purpose:** Predict if a bridge will fail within one year\n",
    "- **Input features:** Engineered features from bridge inventory, inspection, weather, and geospatial data\n",
    "- **Output:** Probability of failure within 1 year (float, 0-1)"
   ]
  },
  {
   "cell_type": "markdown",
   "metadata": {},
   "source": [
    "## Intended Use\n",
    "\n",
    "- Prioritize bridge maintenance and inspection\n",
    "- Early warning for infrastructure planners\n",
    "- Input to dashboards and reporting tools"
   ]
  },
  {
   "cell_type": "markdown",
   "metadata": {},
   "source": [
    "## Data Sources\n",
    "- Bridge inventory (structural, traffic, maintenance)\n",
    "- Weather history\n",
    "- Inspection records\n",
    "- Geospatial location"
   ]
  },
  {
   "cell_type": "markdown",
   "metadata": {},
   "source": [
    "## Performance Metrics\n",
    "\n",
    "```python\n",
    "from sklearn.metrics import roc_auc_score, classification_report\n",
    "import pandas as pd\n",
    "import joblib\n",
    "\n",
    "model = joblib.load('../models/trained/model.joblib')\n",
    "df = pd.read_csv('../data/processed/features.csv')\n",
    "X = df.drop(['failure_within_1yr', 'structure_id'], axis=1)\n",
    "y = df['failure_within_1yr']\n",
    "y_pred = model.predict(X)\n",
    "y_proba = model.predict_proba(X)[:, 1]\n",
    "print('ROC AUC:', roc_auc_score(y, y_proba))\n",
    "print(classification_report(y, y_pred))\n",
    "```\n"
   ]
  },
  {
   "cell_type": "markdown",
   "metadata": {},
   "source": [
    "## Limitations and Considerations\n",
    "- Model performance may degrade on new regions or bridge types not seen in training\n",
    "- Data quality (e.g., missing inspections or weather data) can affect predictions\n",
    "- Not a replacement for professional engineering assessment"
   ]
  },
  {
   "cell_type": "markdown",
   "metadata": {},
   "source": [
    "## Model Update and Monitoring\n",
    "- Monitored for drift using KS tests (see drift_monitoring.ipynb)\n",
    "- Retraining triggered if significant drift is detected\n",
    "- Alerting via Slack/email on drift or model errors"
   ]
  },
  {
   "cell_type": "markdown",
   "metadata": {},
   "source": [
    "## API Usage Example\n",
    "```\n",
    "POST /predict\n",
    "Input: List of bridge records as JSON\n",
    "Output: List of failure probabilities\n",
    "```\n",
    "See `api_usage.ipynb` for a full demo."
   ]
  }
 ],
 "metadata": {
  "kernelspec": {
   "display_name": "Python 3",
   "language": "python3"
  },
  "language_info": {
   "name": "python",
   "version": "3.8"
  }
 },
 "nbformat": 4,
 "nbformat_minor": 4
}