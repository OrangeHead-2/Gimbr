{
 "cells": [
  {
   "cell_type": "markdown",
   "metadata": {},
   "source": [
    "# Model Drift Alerting Example"
   ]
  },
  {
   "cell_type": "markdown",
   "metadata": {},
   "source": [
    "Shows how to detect model drift and trigger an alert."
   ]
  },
  {
   "cell_type": "code",
   "metadata": {},
   "source": [
    "import pandas as pd\n",
    "from scipy.stats import ks_2samp\n",
    "import requests\n",
    "import os"
   ],
   "execution_count": 1,
   "outputs": []
  },
  {
   "cell_type": "markdown",
   "metadata": {},
   "source": [
    "## Load Reference and Production Data"
   ]
  },
  {
   "cell_type": "code",
   "metadata": {},
   "source": [
    "ref = pd.read_csv('../data/processed/infra_training.csv')\n",
    "prod = pd.read_csv('../data/processed/features.csv')"
   ],
   "execution_count": 2,
   "outputs": []
  },
  {
   "cell_type": "markdown",
   "metadata": {},
   "source": [
    "## Compute KS Statistic for Selected Features"
   ]
  },
  {
   "cell_type": "code",
   "metadata": {},
   "source": [
    "features = [c for c in ref.columns if c not in ['structure_id', 'failure_within_1yr']]\n",
    "drift = {}\n",
    "for f in features:\n",
    "    stat, p = ks_2samp(ref[f], prod[f])\n",
    "    drift[f] = {'ks_stat': stat, 'p_value': p}\n",
    "drifted = [f for f, v in drift.items() if v['p_value'] < 0.05]\n",
    "if drifted:\n",
    "    print('Drift detected in:', drifted)\n",
    "    # Example: trigger alert (Slack)\n",
    "    webhook_url = os.environ.get('SLACK_WEBHOOK_URL')\n",
    "    if webhook_url:\n",
    "        requests.post(webhook_url, json={'text': f'DRIFT ALERT: {drifted}'})\n",
    "else:\n",
    "    print('No significant drift detected.')"
   ],
   "execution_count": 3,
   "outputs": []
  }
 ],
 "metadata": {
  "kernelspec": {
   "display_name": "Python 3"
  },
  "language_info": {
   "name": "python",
   "version": "3.8"
  }
 },
 "nbformat": 4,
 "nbformat_minor": 4
}