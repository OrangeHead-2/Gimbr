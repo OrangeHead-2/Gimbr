{
 "cells": [
  {
   "cell_type": "markdown",
   "metadata": {},
   "source": [
    "# Ablation Study Example - Bridge Failure Prediction\n"
   ]
  },
  {
   "cell_type": "code",
   "metadata": {},
   "source": [
    "import pandas as pd\n",
    "from sklearn.ensemble import RandomForestClassifier\n",
    "from sklearn.model_selection import train_test_split\n",
    "from sklearn.metrics import roc_auc_score\n",
    "import numpy as np"
   ],
   "execution_count": 1,
   "outputs": []
  },
  {
   "cell_type": "markdown",
   "metadata": {},
   "source": [
    "## Load Data\n"
   ]
  },
  {
   "cell_type": "code",
   "metadata": {},
   "source": [
    "df = pd.read_csv('../data/processed/features.csv')\n",
    "y = df['failure_within_1yr']\n",
    "features = list(df.drop(['failure_within_1yr', 'structure_id'], axis=1).columns)\n"
   ],
   "execution_count": 2,
   "outputs": []
  },
  {
   "cell_type": "markdown",
   "metadata": {},
   "source": [
    "## Baseline Model\n"
   ]
  },
  {
   "cell_type": "code",
   "metadata": {},
   "source": [
    "X = df[features]\n",
    "X_train, X_test, y_train, y_test = train_test_split(X, y, test_size=0.2, random_state=42, stratify=y)\n",
    "baseline = RandomForestClassifier(n_estimators=100, random_state=42)\n",
    "baseline.fit(X_train, y_train)\n",
    "auc_baseline = roc_auc_score(y_test, baseline.predict_proba(X_test)[:,1])\n",
    "print('Baseline ROC AUC:', auc_baseline)\n"
   ],
   "execution_count": 3,
   "outputs": []
  },
  {
   "cell_type": "markdown",
   "metadata": {},
   "source": [
    "## Remove Each Feature in Turn\n"
   ]
  },
  {
   "cell_type": "code",
   "metadata": {},
   "source": [
    "results = []\n",
    "for feat in features:\n",
    "    subset = [f for f in features if f != feat]\n",
    "    X_train_sub = X_train[subset]\n",
    "    X_test_sub = X_test[subset]\n",
    "    model = RandomForestClassifier(n_estimators=100, random_state=42)\n",
    "    model.fit(X_train_sub, y_train)\n",
    "    auc = roc_auc_score(y_test, model.predict_proba(X_test_sub)[:,1])\n",
    "    results.append({'feature_removed': feat, 'roc_auc': auc})\n",
    "ablation_df = pd.DataFrame(results)\n",
    "ablation_df['drop_auc'] = auc_baseline - ablation_df['roc_auc']\n",
    "ablation_df = ablation_df.sort_values('drop_auc', ascending=False)\n",
    "print(ablation_df.head())\n"
   ],
   "execution_count": 4,
   "outputs": []
  },
  {
   "cell_type": "markdown",
   "metadata": {},
   "source": [
    "## Plot AUC Drop by Feature\n"
   ]
  },
  {
   "cell_type": "code",
   "metadata": {},
   "source": [
    "import matplotlib.pyplot as plt\n",
    "plt.barh(ablation_df['feature_removed'], ablation_df['drop_auc'])\n",
    "plt.xlabel('AUC Drop')\n",
    "plt.title('Ablation Study: Feature Contribution')\n",
    "plt.tight_layout()\n",
    "plt.show()\n"
   ],
   "execution_count": 5,
   "outputs": []
  }
 ],
 "metadata": {
  "kernelspec": {
   "display_name": "Python 3",
   "language": "python3"
  },
  "language_info": {
   "name": "python",
   "version": "3.8"
  }
 },
 "nbformat": 4,
 "nbformat_minor": 4
}