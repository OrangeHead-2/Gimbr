{
 "cells": [
  {
   "cell_type": "markdown",
   "metadata": {},
   "source": [
    "# Reporting and Dashboard Data Generation"
   ]
  },
  {
   "cell_type": "code",
   "metadata": {},
   "source": [
    "import pandas as pd\n",
    "import plotly.express as px\n",
    "import matplotlib.pyplot as plt"
   ],
   "execution_count": 1,
   "outputs": []
  },
  {
   "cell_type": "markdown",
   "metadata": {},
   "source": [
    "## Load Prediction Data"
   ]
  },
  {
   "cell_type": "code",
   "metadata": {},
   "source": [
    "pred_df = pd.read_csv('../models/evaluation/predictions.csv')\n",
    "features_df = pd.read_csv('../data/processed/features.csv').set_index('structure_id')\n",
    "pred_df = pred_df.set_index('structure_id').join(features_df, how='left').reset_index()"
   ],
   "execution_count": 2,
   "outputs": []
  },
  {
   "cell_type": "markdown",
   "metadata": {},
   "source": [
    "## Top 10 High-Risk Structures"
   ]
  },
  {
   "cell_type": "code",
   "metadata": {},
   "source": [
    "top10 = pred_df.sort_values('failure_probability', ascending=False).head(10)\n",
    "top10[['structure_id', 'failure_probability', 'bridge_condition', 'region_code']]"
   ],
   "execution_count": 3,
   "outputs": []
  },
  {
   "cell_type": "markdown",
   "metadata": {},
   "source": [
    "## Map Visualization"
   ]
  },
  {
   "cell_type": "code",
   "metadata": {},
   "source": [
    "fig = px.scatter_mapbox(\n",
    "    pred_df, lat='latitude', lon='longitude', color='failure_probability',\n",
    "    size='failure_probability', hover_name='structure_id', mapbox_style='carto-positron', zoom=3,\n",
    "    title='Bridge Failure Risk Map'\n",
    ")\n",
    "fig.show()"
   ],
   "execution_count": 4,
   "outputs": []
  },
  {
   "cell_type": "markdown",
   "metadata": {},
   "source": [
    "## Failure Probability Distribution"
   ]
  },
  {
   "cell_type": "code",
   "metadata": {},
   "source": [
    "plt.hist(pred_df['failure_probability'], bins=20, color='red')\n",
    "plt.title('Failure Probability Distribution')\n",
    "plt.xlabel('Probability')\n",
    "plt.ylabel('Count')\n",
    "plt.show()"
   ],
   "execution_count": 5,
   "outputs": []
  },
  {
   "cell_type": "markdown",
   "metadata": {},
   "source": [
    "## Export Dashboard Data"
   ]
  },
  {
   "cell_type": "code",
   "metadata": {},
   "source": [
    "pred_df.to_csv('../dashboard/dashboard_data.csv', index=False)\n",
    "print('Dashboard data exported.')"
   ],
   "execution_count": 6,
   "outputs": []
  }
 ],
 "metadata": {
  "kernelspec": {
   "display_name": "Python 3",
   "language": "python",
   "name": "python3"
  },
  "language_info": {
   "name": "python",
   "version": "3.8"
  }
 },
 "nbformat": 4,
 "nbformat_minor": 4
}