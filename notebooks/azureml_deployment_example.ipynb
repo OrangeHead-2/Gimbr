{
 "cells": [
  {
   "cell_type": "markdown",
   "metadata": {},
   "source": [
    "# AzureML Deployment Example"
   ]
  },
  {
   "cell_type": "markdown",
   "metadata": {},
   "source": [
    "Demonstrates registering and deploying the model to AzureML (conceptual example)."
   ]
  },
  {
   "cell_type": "code",
   "metadata": {},
   "source": [
    "from azureml.core import Workspace, Model, Environment\n",
    "from azureml.core.webservice import AciWebservice, Webservice\n",
    "from azureml.core.model import InferenceConfig\n",
    "import os"
   ],
   "execution_count": 1,
   "outputs": []
  },
  {
   "cell_type": "markdown",
   "metadata": {},
   "source": [
    "## Connect to Workspace"
   ]
  },
  {
   "cell_type": "code",
   "metadata": {},
   "source": [
    "ws = Workspace.from_config()"
   ],
   "execution_count": 2,
   "outputs": []
  },
  {
   "cell_type": "markdown",
   "metadata": {},
   "source": [
    "## Register Model"
   ]
  },
  {
   "cell_type": "code",
   "metadata": {},
   "source": [
    "model = Model.register(workspace=ws,\n",
    "                      model_path='../models/trained/model.joblib',\n",
    "                      model_name='bridge_failure_rf')"
   ],
   "execution_count": 3,
   "outputs": []
  },
  {
   "cell_type": "markdown",
   "metadata": {},
   "source": [
    "## Define Inference Environment and Config"
   ]
  },
  {
   "cell_type": "code",
   "metadata": {},
   "source": [
    "env = Environment.from_conda_specification(name='bridge-env', file_path='../environment.yml')\n",
    "inference_config = InferenceConfig(entry_script='../src/serve/score.py', environment=env)"
   ],
   "execution_count": 4,
   "outputs": []
  },
  {
   "cell_type": "markdown",
   "metadata": {},
   "source": [
    "## Deploy to ACI (Azure Container Instances)"
   ]
  },
  {
   "cell_type": "code",
   "metadata": {},
   "source": [
    "deployment_config = AciWebservice.deploy_configuration(cpu_cores=1, memory_gb=2)\n",
    "service = Model.deploy(workspace=ws,\n",
    "                      name='bridge-failure-api',\n",
    "                      models=[model],\n",
    "                      inference_config=inference_config,\n",
    "                      deployment_config=deployment_config,\n",
    "                      overwrite=True)\n",
    "service.wait_for_deployment(show_output=True)\n",
    "print('Service state:', service.state)"
   ],
   "execution_count": 5,
   "outputs": []
  }
 ],
 "metadata": {
  "kernelspec": {
   "display_name": "Python 3",
   "language": "python3"
  },
  "language_info": {
   "name": "python",
   "version": "3.8"
  }
 },
 "nbformat": 4,
 "nbformat_minor": 4
}