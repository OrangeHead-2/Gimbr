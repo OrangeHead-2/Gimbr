{
 "cells": [
  {
   "cell_type": "markdown",
   "metadata": {},
   "source": [
    "# Prometheus Metrics and Monitoring Demo"
   ]
  },
  {
   "cell_type": "code",
   "metadata": {},
   "source": [
    "from src.monitoring.prometheus_metrics import start_prometheus, REQUEST_COUNT, REQUEST_LATENCY\n",
    "import time"
   ],
   "execution_count": 1,
   "outputs": []
  },
  {
   "cell_type": "markdown",
   "metadata": {},
   "source": [
    "## Start Prometheus Metrics Server"
   ]
  },
  {
   "cell_type": "code",
   "metadata": {},
   "source": [
    "start_prometheus(9200)\n",
    "print('Prometheus metrics server started on port 9200.')"
   ],
   "execution_count": 2,
   "outputs": []
  },
  {
   "cell_type": "markdown",
   "metadata": {},
   "source": [
    "## Simulate API Requests and Collect Metrics"
   ]
  },
  {
   "cell_type": "code",
   "metadata": {},
   "source": [
    "for i in range(5):\n",
    "    with REQUEST_LATENCY.labels(endpoint='/predict').time():\n",
    "        time.sleep(0.1)\n",
    "    REQUEST_COUNT.labels(endpoint='/predict', method='POST', status='200').inc()\n",
    "print('Simulated API requests and metrics.')"
   ],
   "execution_count": 3,
   "outputs": []
  },
  {
   "cell_type": "markdown",
   "metadata": {},
   "source": [
    "## View Metrics\n",
    "Navigate to [http://localhost:9200](http://localhost:9200) and search for metrics like `api_requests_total` and `api_request_duration_seconds`."
   ]
  }
 ],
 "metadata": {
  "kernelspec": {
   "display_name": "Python 3",
   "language": "python3"
  },
  "language_info": {
   "name": "python",
   "version": "3.8"
  }
 },
 "nbformat": 4,
 "nbformat_minor": 4
}