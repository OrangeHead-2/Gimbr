{
 "cells": [
  {
   "cell_type": "markdown",
   "metadata": {},
   "source": [
    "# Celery Queue Demo - Background Retraining"
   ]
  },
  {
   "cell_type": "code",
   "metadata": {},
   "source": [
    "from src.queue.producer import enqueue_job\n",
    "from src.queue.tasks import retrain_model_task"
   ],
   "execution_count": 1,
   "outputs": []
  },
  {
   "cell_type": "markdown",
   "metadata": {},
   "source": [
    "## Enqueue Retraining Job"
   ]
  },
  {
   "cell_type": "code",
   "metadata": {},
   "source": [
    "result = enqueue_job('src.queue.tasks.retrain_model_task')\n",
    "print('Job enqueued:', result)"
   ],
   "execution_count": 2,
   "outputs": []
  },
  {
   "cell_type": "markdown",
   "metadata": {},
   "source": [
    "## Or Call Directly (for notebook demonstration)"
   ]
  },
  {
   "cell_type": "code",
   "metadata": {},
   "source": [
    "async_result = retrain_model_task.delay()\n",
    "print('Task ID:', async_result.id)\n",
    "print('Status:', async_result.status)"
   ],
   "execution_count": 3,
   "outputs": []
  }
 ],
 "metadata": {
  "kernelspec": {
   "display_name": "Python 3",
   "language": "python3"
  },
  "language_info": {
   "name": "python",
   "version": "3.8"
  }
 },
 "nbformat": 4,
 "nbformat_minor": 4
}