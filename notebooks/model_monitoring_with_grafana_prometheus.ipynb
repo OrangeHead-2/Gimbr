{
 "cells": [
  {
   "cell_type": "markdown",
   "metadata": {},
   "source": [
    "# Model Monitoring with Grafana & Prometheus Example"
   ]
  },
  {
   "cell_type": "markdown",
   "metadata": {},
   "source": [
    "This notebook describes how to visualize Prometheus metrics with Grafana."
   ]
  },
  {
   "cell_type": "markdown",
   "metadata": {},
   "source": [
    "## Prometheus Setup\n",
    "\n",
    "1. Add the following to your `prometheus.yml` scrape_configs:\n",
    "```\n",
    "  - job_name: 'bridge-failure-api'\n",
    "    static_configs:\n",
    "      - targets: ['localhost:9200']\n",
    "```\n",
    "2. Restart Prometheus.\n",
    "\n",
    "## Grafana Setup\n",
    "1. Add Prometheus as a data source in Grafana.\n",
    "2. Create new dashboards and panels.\n",
    "   - Example queries:\n",
    "     - `api_requests_total` (counter)\n",
    "     - `api_request_duration_seconds` (histogram)\n",
    "3. Visualize request rate, latency, status code counts, etc."
   ]
  },
  {
   "cell_type": "markdown",
   "metadata": {},
   "source": [
    "## Example Panel: API Latency Histogram\n",
    "```\n",
    "histogram_quantile(0.95, sum(rate(api_request_duration_seconds_bucket[5m])) by (le))\n",
    "```\n",
    "\n",
    "## Example Panel: Error Rate\n",
    "```\n",
    "sum(rate(api_requests_total{status!=\"200\"}[5m])) by (status)\n",
    "```"
   ]
  }
 ],
 "metadata": {
  "kernelspec": {
   "display_name": "Python 3"
  },
  "language_info": {
   "name": "python",
   "version": "3.8"
  }
 },
 "nbformat": 4,
 "nbformat_minor": 4
}