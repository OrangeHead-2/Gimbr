{
 "cells": [
  {
   "cell_type": "markdown",
   "metadata": {},
   "source": [
    "# Cloud Pipeline Demo - GCS Model Storage and Inference"
   ]
  },
  {
   "cell_type": "code",
   "metadata": {},
   "source": [
    "from src.cloud.storage import upload_to_gcs, download_from_gcs\n",
    "import os, joblib\n",
    "MODEL_PATH = '../models/trained/model_tuned.joblib'\n",
    "BUCKET = os.environ.get('GIMBR_GCS_BUCKET')\n",
    "GCS_KEY = 'demo/model_tuned.joblib'"
   ],
   "execution_count": 1,
   "outputs": []
  },
  {
   "cell_type": "markdown",
   "metadata": {},
   "source": [
    "## Upload Model to GCS"
   ]
  },
  {
   "cell_type": "code",
   "metadata": {},
   "source": [
    "upload_to_gcs(MODEL_PATH, BUCKET, GCS_KEY)\n",
    "print('Model uploaded to GCS:', GCS_KEY)"
   ],
   "execution_count": 2,
   "outputs": []
  },
  {
   "cell_type": "markdown",
   "metadata": {},
   "source": [
    "## Download Model from GCS and Use"
   ]
  },
  {
   "cell_type": "code",
   "metadata": {},
   "source": [
    "local_path = 'temp_model.joblib'\n",
    "download_from_gcs(BUCKET, GCS_KEY, local_path)\n",
    "import pandas as pd\n",
    "model = joblib.load(local_path)\n",
    "df = pd.read_csv('../data/processed/features.csv')\n",
    "X = df.drop(['failure_within_1yr', 'structure_id'], axis=1)\n",
    "print('Predictions:', model.predict_proba(X)[:,1][:5])"
   ],
   "execution_count": 3,
   "outputs": []
  }
 ],
 "metadata": {
  "kernelspec": {
   "display_name": "Python 3",
   "language": "python",
   "name": "python3"
  },
  "language_info": {
   "name": "python",
   "version": "3.8"
  }
 },
 "nbformat": 4,
 "nbformat_minor": 4
}