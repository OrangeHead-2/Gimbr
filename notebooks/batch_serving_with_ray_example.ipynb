{
 "cells": [
  {
   "cell_type": "markdown",
   "metadata": {},
   "source": [
    "# Batch Serving with Ray Serve Example"
   ]
  },
  {
   "cell_type": "markdown",
   "metadata": {},
   "source": [
    "Demonstrates Ray Serve deployment for scalable, parallel model serving."
   ]
  },
  {
   "cell_type": "code",
   "metadata": {},
   "source": [
    "import ray\n",
    "from ray import serve\n",
    "import joblib\n",
    "import pandas as pd\n",
    "from fastapi import FastAPI\n",
    "from pydantic import BaseModel\n",
    "\n",
    "ray.init(ignore_reinit_error=True)\n",
    "serve.start(detached=True)"
   ],
   "execution_count": 1,
   "outputs": []
  },
  {
   "cell_type": "markdown",
   "metadata": {},
   "source": [
    "## Define FastAPI App and Ray Serve Deployment"
   ]
  },
  {
   "cell_type": "code",
   "metadata": {},
   "source": [
    "class BridgeInput(BaseModel):\n",
    "    features: dict\n",
    "\n",
    "app = FastAPI()\n",
    "\n",
    "@serve.deployment(route_prefix=\"/predict\")\n",
    "class BridgeModelDeployment:\n",
    "    def __init__(self):\n",
    "        self.model = joblib.load('../models/trained/model.joblib')\n",
    "    async def __call__(self, request):\n",
    "        data = await request.json()\n",
    "        X = pd.DataFrame(data)\n",
    "        preds = self.model.predict_proba(X)[:, 1].tolist()\n",
    "        return preds\n",
    "\n",
    "BridgeModelDeployment.bind()"
   ],
   "execution_count": 2,
   "outputs": []
  },
  {
   "cell_type": "markdown",
   "metadata": {},
   "source": [
    "## Query Ray Serve Endpoint (after deployment)\n",
    "```\n",
    "import requests\n",
    "resp = requests.post('http://127.0.0.1:8000/predict', json=payload)\n",
    "print(resp.json())\n",
    "```"
   ]
  }
 ],
 "metadata": {
  "kernelspec": {
   "display_name": "Python 3"
  },
  "language_info": {
   "name": "python",
   "version": "3.8"
  }
 },
 "nbformat": 4,
 "nbformat_minor": 4
}